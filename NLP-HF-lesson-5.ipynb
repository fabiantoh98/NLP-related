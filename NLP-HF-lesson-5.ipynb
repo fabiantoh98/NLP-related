{
 "cells": [
  {
   "cell_type": "markdown",
   "metadata": {},
   "source": [
    "# Hugging Face - lesson 5"
   ]
  },
  {
   "cell_type": "markdown",
   "metadata": {},
   "source": [
    "## Loading a Local Dataset\n",
    "\n",
    "Citations:\n",
    "```\n",
    "@InProceedings{10.1007/978-3-030-03840-3_29,\n",
    "\tauthor=\"Croce, Danilo and Zelenanska, Alexandra and Basili, Roberto\",\n",
    "\teditor=\"Ghidini, Chiara and Magnini, Bernardo and Passerini, Andrea and Traverso, Paolo\",\n",
    "\ttitle=\"Neural Learning for Question Answering in Italian\",\n",
    "\tbooktitle=\"AI*IA 2018 -- Advances in Artificial Intelligence\",\n",
    "\tyear=\"2018\",\n",
    "\tpublisher=\"Springer International Publishing\",\n",
    "\taddress=\"Cham\",\n",
    "\tpages=\"389--402\",\n",
    "\tisbn=\"978-3-030-03840-3\"\n",
    "}\n",
    "```\n",
    "\n",
    "Data downloaded from: https://github.com/crux82/squad-it/"
   ]
  },
  {
   "cell_type": "code",
   "execution_count": 1,
   "metadata": {},
   "outputs": [],
   "source": [
    "# Loading the dataset\n",
    "from datasets import load_dataset\n",
    "\n",
    "squad_it_dataset = load_dataset(\"json\", data_files=\"data/squad-it-master/SQuAD_it-train.json\", field=\"data\")"
   ]
  },
  {
   "cell_type": "code",
   "execution_count": 2,
   "metadata": {},
   "outputs": [
    {
     "name": "stdout",
     "output_type": "stream",
     "text": [
      "Dataset Meta data:  DatasetDict({\n",
      "    train: Dataset({\n",
      "        features: ['title', 'paragraphs'],\n",
      "        num_rows: 442\n",
      "    })\n",
      "})\n",
      "Sample data:  {'title': 'Terremoto del Sichuan del 2008', 'paragraphs': [{'context': \"Il terremoto del Sichuan del 2008 o il terremoto del Gran Sichuan, misurato a 8.0 Ms e 7.9 Mw, e si è verificato alle 02:28:01 PM China Standard Time all' epicentro (06:28:01 UTC) il 12 maggio nella provincia del Sichuan, ha ucciso 69.197 persone e lasciato 18.222 dispersi.\", 'qas': [{'answers': [{'answer_start': 29, 'text': '2008'}], 'id': '56cdca7862d2951400fa6826', 'question': 'In quale anno si è verificato il terremoto nel Sichuan?'}, {'answers': [{'answer_start': 232, 'text': '69.197'}], 'id': '56cdca7862d2951400fa6828', 'question': 'Quante persone sono state uccise come risultato?'}, {'answers': [{'answer_start': 29, 'text': '2008'}], 'id': '56d4f9902ccc5a1400d833c0', 'question': 'Quale anno ha avuto luogo il terremoto del Sichuan?'}, {'answers': [{'answer_start': 78, 'text': '8.0 Ms e 7.9 Mw'}], 'id': '56d4f9902ccc5a1400d833c1', 'question': 'Che cosa ha fatto la misura di sisma?'}, {'answers': [{'answer_start': 183, 'text': '12 maggio'}], 'id': '56d4f9902ccc5a1400d833c2', 'question': 'Che giorno si è verificato il terremoto?'}, {'answers': [{'answer_start': 118, 'text': '02:28:01 PM China Standard Time'}], 'id': '56d4f9902ccc5a1400d833c3', 'question': 'Che ora del giorno è accaduto il terremoto?'}, {'answers': [{'answer_start': 232, 'text': '69.197'}], 'id': '56d4f9902ccc5a1400d833c4', 'question': 'Quante persone sono morte?'}]}, {'context': 'E\\' noto anche come terremoto di Wenchuan (Cinese:????; pinyin: Wènchu? n dà dìzhèn; letteralmente:\"Grande terremoto di Wenchuan\"), dopo l\\' ubicazione dell\\' epicentro del terremoto, Wenchuan County, Sichuan. L\\' epicentro era di 80 chilometri (50 miglia) ad ovest nord-ovest di Chengdu, capoluogo di provincia, con una profondità focale di 19 km (12 miglia). Il terremoto ha colpito anche i paesi vicini e lontani da Pechino e Shanghai-1.500 km (930 mi) e 1.700 km (1.060 mi) di distanza, dove gli edifici adibiti a uffici hanno oscillato con il tremore. Forti scosse di assestamento, un po\\' superiori alla magnitudo 6, hanno continuato a colpire l\\' area anche mesi dopo il sisma principale, causando nuove vittime e danni.', 'qas': [{'answers': [{'answer_start': 415, 'text': 'Pechino e Shanghai'}], 'id': '56cdcb2c62d2951400fa6830', 'question': 'Quali città lontane in altri paesi potrebbero sentire il terremoto?'}, {'answers': [{'answer_start': 338, 'text': '19 km'}], 'id': '56cdcb2c62d2951400fa6833', 'question': 'Qual è stata la profondità focale del terremoto?'}, {'answers': [{'answer_start': 659, 'text': 'mesi dopo'}], 'id': '56cdcb2c62d2951400fa6834', 'question': 'Quanto tempo dopo il terremoto si sono sentite le scosse di assestamento?'}, {'answers': [{'answer_start': 181, 'text': 'Wenchuan County, Sichuan'}], 'id': '56d4fb6f2ccc5a1400d833d5', 'question': \"Dov' era l' epicentro del terremoto?\"}, {'answers': [{'answer_start': 227, 'text': '80 chilometri'}], 'id': '56d4fb6f2ccc5a1400d833d6', 'question': 'Quanto lontano era da Chengdu?'}, {'answers': [{'answer_start': 338, 'text': '19 km'}], 'id': '56d4fb6f2ccc5a1400d833d7', 'question': 'Qual era la profondità focale del sisma?'}]}, {'context': \"I dati ufficiali (al 21 luglio 2008 ore 12:00 CST) hanno dichiarato che 69.197 sono stati confermati morti, di cui 68.636 nella provincia del Sichuan e 374.176 feriti, di cui 18.222 scomparsi. Il terremoto ha lasciato circa 4,8 milioni di senzatetto, anche se il numero potrebbe raggiungere gli 11 milioni. Circa 15 milioni di persone vivevano nell' area colpita. E' stato il terremoto più mortale per colpire la Cina dopo il terremoto di Tangshan 1976, che ha ucciso almeno 240.000 persone, e il più forte del paese dal terremoto di Chayu 1950, che ha registrato a 8,5 sulla scala di magnitudo Richter. E' il 21° terremoto più morto di tutti i tempi. Il 6 novembre 2008, il governo centrale ha annunciato che avrebbe speso 1 trilione di RMB (circa 146,5 miliardi di dollari USA) nei prossimi tre anni per ricostruire le aree devastate dal terremoto, come parte del programma cinese di stimolo economico.\", 'qas': [{'answers': [{'answer_start': 72, 'text': '69.197'}], 'id': '56cdcbb762d2951400fa683a', 'question': 'Quante persone sono state confermate morte?'}, {'answers': [{'answer_start': 115, 'text': '68.636'}], 'id': '56cdcbb762d2951400fa683b', 'question': 'Quanti morti sono stati confermati solo nella provincia del Sichuan?'}, {'answers': [{'answer_start': 224, 'text': '4,8 milioni'}], 'id': '56cdcbb762d2951400fa683c', 'question': 'Quante persone sono rimaste senza tetto a causa del terremoto?'}, {'answers': [{'answer_start': 313, 'text': '15 milioni'}], 'id': '56cdcbb762d2951400fa683d', 'question': 'Quante persone hanno vissuto nella zona colpita?'}, {'answers': [{'answer_start': 724, 'text': '1 trilione di RMB'}], 'id': '56cdcbb762d2951400fa683e', 'question': 'Quanto denaro è stato destinato alla ricostruzione di aree devastate?'}, {'answers': [{'answer_start': 115, 'text': '68.636'}], 'id': '56d4fca52ccc5a1400d833de', 'question': 'Quante persone sono morte nella provincia del Sichuan?'}, {'answers': [{'answer_start': 152, 'text': '374.176'}], 'id': '56d4fca52ccc5a1400d833df', 'question': 'Quanti sono stati feriti nel Sichuan?'}, {'answers': [{'answer_start': 175, 'text': '18.222'}], 'id': '56d4fca52ccc5a1400d833e0', 'question': 'Quante persone sono elencate come scomparse?'}, {'answers': [{'answer_start': 224, 'text': '4,8 milioni'}], 'id': '56d4fca52ccc5a1400d833e1', 'question': 'Quante persone sono senzatetto a causa del terremoto?'}, {'answers': [{'answer_start': 295, 'text': '11 milioni'}], 'id': '56d4fca52ccc5a1400d833e2', 'question': 'Quanto potrebbe arrivare il numero dei senzatetto?'}]}, {'context': \"Il terremoto ha avuto una magnitudine di 8,0 Ms e 7,9 Mw. L' epicentro è stato in Wenchuan County, Ngawa Tibetano e Prefettura Autonoma di Qiang, 80 km ad ovest / nord-ovest del capoluogo di provincia di Chengdu, con il suo tremore principale che si verifica alle 14:28:01.42 China Standard Time (06:28:01.42 UTC), il 12 maggio 2008 della durata di circa 2 minuti, nel terremoto quasi l' 80% degli edifici sono stati distrutti.\", 'qas': [{'answers': [{'answer_start': 355, 'text': '2 minuti'}], 'id': '56cdcc5562d2951400fa6847', 'question': 'Quanto tempo è durato il terremoto?'}, {'answers': [{'answer_start': 388, 'text': '80%'}], 'id': '56cdcc5562d2951400fa6848', 'question': 'Quale percentuale di edifici è stata distrutta?'}, {'answers': [{'answer_start': 41, 'text': '8,0 Ms e 7,9 Mw'}], 'id': '56d4fe332ccc5a1400d833e8', 'question': 'Qual era la magnitudo del terremoto?'}, {'answers': [{'answer_start': 355, 'text': '2 minuti'}], 'id': '56d4fe332ccc5a1400d833eb', 'question': 'Quanto tempo è durato il tremore principale?'}, {'answers': [{'answer_start': 379, 'text': \"quasi l' 80%\"}], 'id': '56d4fe332ccc5a1400d833ec', 'question': 'Quale percentuale di edifici è stata distrutta durante il sisma?'}]}, {'context': \"Secondo uno studio della China Earthquake Administration (CEA), il terremoto si è verificato lungo la faglia Longmenshan, una struttura di spinta lungo il confine della piastra Indo-Australiana e placca eurasiatica. Le attività sismiche si sono concentrate sulla sua frattura media (nota come frattura Yingxiu-Beichuan). La rottura è durata quasi 120 sec, con la maggior parte dell' energia rilasciata nei primi 80 sec. Partendo da Wenchuan, la rottura si propagò ad una velocità media di 3,1 chilometri al secondo 49° verso nord-est, rompendosi per un totale di circa 300 km. Lo spostamento massimo ammontava a 9 metri. Il fuoco era più profondo di 10 km.\", 'qas': [{'answers': [{'answer_start': 347, 'text': '120 sec'}], 'id': '56cdccd962d2951400fa6850', 'question': 'Quanto tempo ha durato la rottura?'}, {'answers': [{'answer_start': 650, 'text': '10 km'}], 'id': '56cdccd962d2951400fa6852', 'question': 'Quanto è stato profondo il centro del terremoto?'}, {'answers': [{'answer_start': 293, 'text': 'frattura Yingxiu-Beichuan'}], 'id': '56d5005d2ccc5a1400d833f4', 'question': 'Su quale frattura ha messo a fuoco il terremoto?'}, {'answers': [{'answer_start': 612, 'text': '9 metri'}], 'id': '56d5005d2ccc5a1400d833f6', 'question': 'Qual è stato lo sfollamento più causato dal terremoto?'}]}, {'context': 'Yazhou Zhoukan, con sede in Malesia, ha condotto un\\' intervista con l\\' ex ricercatore presso il China Seismological Bureau Geng Qingguo (??), in cui Geng ha sostenuto che un rapporto scritto riservato è stato inviato all\\' Ufficio sismologico di Stato il 30 aprile 2008, avvertendo circa il possibile verificarsi di un terremoto significativo nella regione della prefettura di Ngawa del Sichuan intorno all\\' 8 maggio, con una gamma di 10 giorni prima o dopo il terremoto. Il Geng, pur riconoscendo che la predizione del terremoto era ampiamente considerata problematica dalla comunità scientifica, credeva che \"più grande è il terremoto, più facile è prevedere\". Geng aveva a lungo tentato di stabilire una correlazione tra il verificarsi di siccità e terremoti; Premier Zhou Enlai ha riferito che ha preso interesse nel lavoro di Geng. La teoria di correlazione siccità-terra terremoto di Geng è stata pubblicata per la prima volta nel 1972, e ha detto di aver pronosticato con successo i terremoti di Haicheng 1975 e 1976 Tangshan. Lo stesso articolo di Yazhou Zhoukan ha sottolineato le difficoltà intrinseche associate alla previsione dei terremoti.', 'qas': [{'answers': [{'answer_start': 936, 'text': '1972'}], 'id': '56cdce0b62d2951400fa685b', 'question': 'Quando è stata rilasciata la teoria di correlazione siccità-terra terremoto di Geng?'}, {'answers': [{'answer_start': 394, 'text': \"intorno all' 8 maggio\"}], 'id': '56d67a8d1c8504140094714f', 'question': 'Qual era il tempo previsto per il terremoto?'}, {'answers': [{'answer_start': 741, 'text': 'siccità'}], 'id': '56d67a8d1c85041400947150', 'question': 'Che cosa ha cercato Geng a lungo di stabilire come rapporto con i terremoti?'}]}, {'context': 'In uno studio dell\\' USGS (United States Geological Survey) i modelli preliminari di rottura del terremoto hanno indicato uno spostamento fino a 9 metri lungo un guasto lungo circa 240 km di lunghezza e 20 km di profondità. Il terremoto ha generato deformazioni della superficie superiori a 3 metri e ha aumentato lo stress (e la probabilità che si verifichino eventi futuri) alle estremità nord-orientale e sud-occidentale del guasto. Il 20 maggio, il sismologo dell\\' USGS Tom Parsons ha avvertito che c\\' è \"alto rischio\" di una grave scossa di assestamento M>7 nelle prossime settimane o mesi.', 'qas': [{'answers': [{'answer_start': 137, 'text': 'fino a 9 metri'}], 'id': '56cdcebe62d2951400fa6862', 'question': 'Quanto è stato grande lo spostamento?'}, {'answers': [{'answer_start': 473, 'text': 'Tom Parsons'}], 'id': '56cdcebe62d2951400fa6866', 'question': \"Chi ha prima messo in guardia da possibili attività sismiche nell' area?\"}, {'answers': [{'answer_start': 144, 'text': '9 metri'}], 'id': '56d5027a9d1b871400ae05e1', 'question': \"Che cosa ha mostrato il Geological Survey degli Stati Uniti come l' entità dello spostamento?\"}, {'answers': [{'answer_start': 202, 'text': '20 km di profondità'}], 'id': '56d5027a9d1b871400ae05e3', 'question': 'Quanto è profondo il guasto?'}, {'answers': [{'answer_start': 508, 'text': 'alto rischio'}], 'id': '56d5027a9d1b871400ae05e5', 'question': 'Che cosa ha considerato Tom Parsons come il fattore di rischio per forti terremoti futuri?'}]}, {'context': 'Sismologo giapponese Yuji Yagi Yuji Yagi presso l\\' Università di Tsukuba ha detto che il terremoto si è verificato in due fasi:\"Il 155 miglia Longmenshan Fault tore in due sezioni, il primo uno strappo di circa sette metri, seguita da un secondo che ha tosato quattro metri\". I suoi dati hanno anche mostrato che il terremoto è durato circa due minuti e ha rilasciato 30 volte l\\' energia del grande terremoto di Hanshin del 1995 in Giappone, che ha ucciso oltre 6.000 persone. Egli ha sottolineato che la scarsità dell\\' epicentro e la densità di popolazione hanno notevolmente aumentato la gravità del terremoto. Teruyuki Kato, un sismologo dell\\' Università di Tokyo, ha detto che le onde sismiche del terremoto hanno percorso una lunga distanza senza perdere il loro potere a causa della fermezza del terreno nella Cina centrale.', 'qas': [{'answers': [{'answer_start': 115, 'text': 'in due fasi'}], 'id': '56d504539d1b871400ae05eb', 'question': 'Come ha fatto Yuji Yagi a dire che il terremoto è successo?'}, {'answers': [{'answer_start': 142, 'text': 'Longmenshan Fault'}], 'id': '56d504539d1b871400ae05ec', 'question': 'Che errore si è verificato in due luoghi?'}, {'answers': [{'answer_start': 368, 'text': '30 volte'}], 'id': '56d504539d1b871400ae05ee', 'question': 'Quanta più energia di quella prodotta dal terremoto del 1995 in Giappone?'}, {'answers': [{'answer_start': 789, 'text': 'fermezza del terreno'}], 'id': '56d504539d1b871400ae05ef', 'question': 'Perché le onde sismiche hanno viaggiato finora?'}]}, {'context': 'Tra 64 e 104 scosse di assestamento importanti, di magnitudo compresa tra 4,0 e 6,1, sono state registrate entro 72 ore dal sisma principale. Secondo i conteggi ufficiali cinesi,\"alle ore 12:00 CST, 6 novembre 2008 c\\' erano state 42.719 scariche post-shock totali, di cui 246 variavano da 4,0 SM a 4,9 SM, 34 da 5,0 MS a 5,9 MS, e 8 da 6,0 Ms a 6,4 MS; l\\' urto post-shock più forte misurato 6,4 MS.\" L\\' ultima scossa post-shock superiore a M6 si è verificato il 5 agosto.', 'qas': [{'answers': [{'answer_start': 0, 'text': 'Tra 64 e 104'}], 'id': '56cdd08862d2951400fa6894', 'question': 'Quante sono state le scosse di assestamento?'}, {'answers': [{'answer_start': 107, 'text': 'entro 72 ore dal sisma principale'}], 'id': '56cdd08862d2951400fa6896', 'question': 'Quando sono state registrate le scosse di assestamento?'}, {'answers': [{'answer_start': 0, 'text': 'Tra 64 e 104'}], 'id': '56d505f99d1b871400ae05f5', 'question': 'Quante sono state le scosse di assestamento entro 72 ore?'}, {'answers': [{'answer_start': 230, 'text': '42.719'}], 'id': '56d505f99d1b871400ae05f6', 'question': 'Che cosa dicono i cinesi è il numero totale di shock dopo il terremoto?'}, {'answers': [{'answer_start': 272, 'text': '246'}], 'id': '56d505f99d1b871400ae05f8', 'question': 'In quale data si sono verificate le scosse di assestamento più recenti superiori a 6 SM?'}]}, {'context': '(Il terremoto della sig. ra 6.1 del 30 agosto 2008 nel Sichuan meridionale non faceva parte di questa serie perché è stato causato da una diversa colpa.', 'qas': [{'answers': [{'answer_start': 55, 'text': 'Sichuan meridionale'}], 'id': '56cdd10962d2951400fa68a0', 'question': 'Dove si è verificato il terremoto?'}, {'answers': [{'answer_start': 55, 'text': 'Sichuan meridionale'}], 'id': '56cdd10962d2951400fa68a2', 'question': \"Dov' era il terremoto del 30 agosto 2008?\"}, {'answers': [{'answer_start': 20, 'text': 'sig'}], 'id': '56d507269d1b871400ae05ff', 'question': 'Qual era la grandezza del terremoto del Sichuan meridionale?'}]}, {'context': 'La mappa dell\\' intensità sismica pubblicata dal CEA dopo aver rilevato 500.000 km2 dell\\' area colpita mostra una liedu massima di XI sulla scala di intensità sismica cinese (CSIS), descritta come \"molto distruttiva\" sulla scala macrosismica europea (EMS) da cui il CSIS ha tratto riferimento. (USGS, utilizzando la scala di intensità Mercalli modificata (CC), collocava anche l\\' intensità massima a XI,\"molto disastrosa\". Due strisce sud-ovest-nord-est di liedu XI sono centrate intorno a Yingxiu, Wenchuan (la città più vicina all\\' epicentro del terremoto principale) e Beichuan (la città ripetutamente colpita da forti scosse di assestamento tra cui una che registra MS 6.1 il 1 agosto 2008), entrambe nella provincia del Sichuan, occupando un totale di 2.419 km2. La zona Yingxiu liedu-XI è lunga circa 66 km e larga 20 km lungo Wenchuan-Dujiangyan-Pengzhou; la zona Beichuan liedu-XI è lunga circa 82 km e larga 15 km lungo An County-Beichuan-Pingwu. L\\' area con liedu X (comparabile a X su EMS,\"distruttivo\" e X su MM,\"disastroso\") ha una superficie di 3.144 km2.', 'qas': [{'answers': [{'answer_start': 48, 'text': 'CEA'}], 'id': '56cdd21562d2951400fa68b0', 'question': \"Chi ha pubblicato la mappa dell' intensità dei terremoti?\"}, {'answers': [{'answer_start': 130, 'text': 'XI'}], 'id': '56cdd21562d2951400fa68b2', 'question': 'A quale intensità è stata scalata?'}, {'answers': [{'answer_start': 489, 'text': 'Yingxiu, Wenchuan'}], 'id': '56d5098a9d1b871400ae0609', 'question': \"Quale città era più vicina all' epicentro principale?\"}]}, {'context': \"Il sistema Longmen Shan Fault System si trova al confine orientale dell' altopiano tibetano e contiene diversi difetti. Questo terremoto ha rotto almeno due strutture imbricate in Longmen Shan Fault System, vale a dire il Fault Beichuan e il Guanxian-Anxian Fault. Nell' area epicentrale, lo slittamento medio in Fault Beichuan era di circa 3,5 metri (11 ft) verticale, di 3,5 metri (11 ft) orizzontale parallelo al guasto, e di 4,8 metri (16 ft) orizzontale-pendicolare al guasto. Nell' area di circa 30 chilometri (19 miglia) a nord-est dell' epicentro, lo scivolamento superficiale su Beichuan Fault è stato quasi esclusivamente dextral strike-slip fino a circa 3 metri, mentre lo scivolamento medio in Guanxian-Anxian Fault è stato di circa 2 metri verticali (6 ft 7 in) e 2,3 metri (7 ft 7 in) orizzontali. il confine orientale dell' altopiano tibetano.\", 'qas': [{'answers': [{'answer_start': 665, 'text': '3 metri'}], 'id': '56cdd4d762d2951400fa68cd', 'question': 'Quanto è stato grande lo slip 30 km a nord-est del guasto?'}, {'answers': [{'answer_start': 745, 'text': '2 metri'}], 'id': '56cdd4d762d2951400fa68ce', 'question': 'Qual è stato lo slittamento verticale media sul Guanxian-Anxian errore?'}, {'answers': [{'answer_start': 777, 'text': '2,3 metri'}], 'id': '56cdd4d762d2951400fa68cf', 'question': 'Che cosa è stato lo slittamento orizzontale media sul Guanxian-Anxian errore?'}, {'answers': [{'answer_start': 73, 'text': 'altopiano tibetano'}], 'id': '56cdd4d762d2951400fa68d0', 'question': 'Dove si trova il guasto dello shan Longmen?'}, {'answers': [{'answer_start': 3, 'text': 'sistema Longmen Shan Fault System'}], 'id': '56d516439d1b871400ae0611', 'question': 'Dove sono i guasti Beichuan e Guanxian-Ansia?'}, {'answers': [{'answer_start': 341, 'text': '3,5 metri'}], 'id': '56d516439d1b871400ae0612', 'question': 'Qual è stato lo slittamento verticale medio nel difetto di Beichaun?'}, {'answers': [{'answer_start': 341, 'text': '3,5 metri'}], 'id': '56d516439d1b871400ae0613', 'question': \"Qual è stato lo slittamento orizzontale nel Fault Beichuan all' epicentro?\"}, {'answers': [{'answer_start': 429, 'text': '4,8 metri'}], 'id': '56d516439d1b871400ae0614', 'question': 'Qual è stato lo slittamento orizzontale perpendicolare al guasto?'}]}, {'context': 'Gli edifici per uffici nel distretto finanziario di Shanghai, tra cui la Jin Mao Tower e la Hong Kong New World Tower, sono stati evacuati. Un receptionist al Tibet Hotel di Chengdu ha detto che le cose erano \"calme\" dopo che l\\' hotel ha evacuato i suoi ospiti. Nel frattempo, i lavoratori di uno stabilimento Ford nel Sichuan sono stati evacuati per circa 10 minuti. L\\' aeroporto internazionale di Chengdu Shuangliu è stato chiuso e la torre di controllo e il controllo radar regionale sono stati evacuati. Un volo di SilkAir è stato deviato e atterrato a Kunming. Cathay Pacific ha ritardato entrambe le tratte del suo quadruplo quotidiano Hong Kong a Londra a causa di questa perturbazione dei servizi di traffico aereo. Chengdu Shuangliu Aeroporto riaperto più tardi la sera del 12 maggio, offrendo un servizio limitato come l\\' aeroporto ha cominciato ad essere utilizzato come una zona di sosta per le operazioni di soccorso.', 'qas': [{'answers': [{'answer_start': 210, 'text': 'calm'}], 'id': '56cdd63a62d2951400fa68d7', 'question': \"Come ha descritto un receptionist l' atmosfera dopo l' evacuazione?\"}, {'answers': [{'answer_start': 357, 'text': '10 minuti'}], 'id': '56cdd63a62d2951400fa68d8', 'question': 'Per quanto tempo sono stati evacuati i lavoratori di Ford Plant?'}, {'answers': [{'answer_start': 371, 'text': 'aeroporto internazionale di Chengdu Shuangliu'}], 'id': '56cdd63a62d2951400fa68d9', 'question': 'Quale aeroporto è stato chiuso?'}, {'answers': [{'answer_start': 783, 'text': '12 maggio'}], 'id': '56cdd63a62d2951400fa68da', 'question': \"Quando è stato riaperto l' aeroporto?\"}, {'answers': [{'answer_start': 907, 'text': 'operazioni di soccorso'}], 'id': '56d5185a9d1b871400ae061d', 'question': \"A cosa servivano l' aeroporto per fare tappa?\"}]}, {'context': \"Reporter a Chengdu hanno detto che hanno visto crepe sulle pareti di alcuni edifici residenziali nelle zone del centro, ma nessun edificio è crollato. Molti uffici di Pechino torri ufficio sono stati evacuati, tra cui l' edificio che ospita gli uffici dei media per gli organizzatori delle Olimpiadi estive 2008. Nessuna delle sedi olimpiche sono state danneggiate. Nel frattempo, un treno cargo che trasportava 13 cisterne a benzina deragliato nella contea di Hui, Gansu, e prese fuoco dopo che la ferrovia era stata distorta.\", 'qas': [{'answers': [{'answer_start': 9, 'text': 'a Chengdu'}], 'id': '56cddec762d2951400fa692c', 'question': 'Dove hanno detto i giornalisti che hanno visto crepe sulle pareti di alcuni edifici?'}, {'answers': [{'answer_start': 167, 'text': 'Pechino'}], 'id': '56cddec762d2951400fa692d', 'question': 'Dove sono state evacuate le torri degli uffici?'}, {'answers': [{'answer_start': 47, 'text': 'crepe sulle pareti'}], 'id': '56d519a82593cc1400307a6b', 'question': 'Cosa è stato riportato in Chengdu?'}]}, {'context': \"Tutte le autostrade in Wenchuan, e altri in tutta la provincia, sono stati danneggiati, con conseguente ritardo di arrivo delle truppe di soccorso. Nella contea di Beichuan, l' 80% degli edifici è crollato secondo Xinhua News. Nella città di Shifang, il crollo di due impianti chimici ha portato alla fuoriuscita di circa 80 tonnellate di ammoniaca liquida, con centinaia di persone segnalate sepolte. Nella città di Dujiangyan, a sud-est dell' epicentro, un' intera scuola è crollata con 900 studenti sepolti e meno di 60 sopravvissuti. La Juyuan Middle School, dove sono stati sepolti molti adolescenti, è stata scavata da civili e gru. Dujiangyan è la sede del Dujiangyan Irrigation System, un antico progetto di deviazione dell' acqua che è ancora in uso ed è un patrimonio mondiale dell' UNESCO. La famosa bocca di pesce del progetto è stata incrinata, ma non gravemente danneggiata altrimenti.\", 'qas': [{'answers': [{'answer_start': 0, 'text': 'Tutte le autostrade'}], 'id': '56cddf9e62d2951400fa6934', 'question': 'Quante autostrade che conducono a Wenchuan sono state danneggiate?'}, {'answers': [{'answer_start': 177, 'text': '80%'}], 'id': '56cddf9e62d2951400fa6936', 'question': \"Quale percentuale dell' edificio è crollata a Beichuan?\"}, {'answers': [{'answer_start': 417, 'text': 'Dujiangyan'}], 'id': '56cddf9e62d2951400fa6937', 'question': 'Dove sono crollati due impianti chimici?'}, {'answers': [{'answer_start': 520, 'text': '60'}], 'id': '56cddf9e62d2951400fa6938', 'question': 'Quanti studenti su 900 nella scuola sono sopravvissuti al crollo?'}, {'answers': [{'answer_start': 0, 'text': 'Tutte le autostrade'}], 'id': '56d51b832593cc1400307a75', 'question': 'Quali autostrade di Wenchuan sono state danneggiate?'}, {'answers': [{'answer_start': 177, 'text': '80%'}], 'id': '56d51b832593cc1400307a77', 'question': 'Quanti edifici di Beichuan sono crollati?'}, {'answers': [{'answer_start': 264, 'text': 'due impianti chimici'}], 'id': '56d51b832593cc1400307a78', 'question': 'Quale ammoniaca liquida fuoriuscita a Shifang?'}, {'answers': [{'answer_start': 512, 'text': 'meno di 60'}], 'id': '56d51b832593cc1400307a79', 'question': 'Quanti dei 900 studenti sepolti in un crollo scolastico Dujiangyan sono sopravvissuti?'}]}, {'context': 'Sia la borsa valori di Shanghai che la Shenzhen Stock Exchange hanno sospeso il commercio di società con sede nella Cina sudoccidentale. Il rame è aumentato a causa delle speculazioni che la produzione nel sud-ovest della Cina potrebbe essere influenzata, e i prezzi del petrolio è sceso a fronte di speculazioni che la domanda dalla Cina sarebbe scesa.', 'qas': [{'answers': [{'answer_start': 116, 'text': 'Cina sudoccidentale'}], 'id': '56cddfff62d2951400fa693f', 'question': 'Dove si sono basati gli scambi?'}, {'answers': [{'answer_start': 140, 'text': 'rame'}], 'id': '56cddfff62d2951400fa6940', 'question': 'Quale metallo è aumentato di valore?'}, {'answers': [{'answer_start': 275, 'text': 'olio'}], 'id': '56cddfff62d2951400fa6941', 'question': 'Quale risorsa naturale è diminuita di valore?'}, {'answers': [{'answer_start': 116, 'text': 'Cina sudoccidentale'}], 'id': '56d51d272593cc1400307a80', 'question': 'Dove si trovavano le società che avevano sospeso il loro commercio di azioni?'}, {'answers': [{'answer_start': 140, 'text': 'rame'}], 'id': '56d51d272593cc1400307a81', 'question': 'Quale metallo è aumentato a causa della speculazione?'}, {'answers': [{'answer_start': 39, 'text': 'Shenzhen Stock Exchange'}], 'id': '56d51d272593cc1400307a83', 'question': 'Oltre alla borsa valori di Shanghai, quale altra borsa sospesa negoziazione di titoli azionari sud-ovest della Cina?'}]}, {'context': \"Immediatamente dopo l' evento sismico, le telecomunicazioni mobili e terrestri sono state tagliate verso l' area colpita e quella circostante, con tutte le capacità internet tagliate anche verso l' area del Sichuan. Elementi di telecomunicazioni sono stati ripristinati dal governo pezzo per pezzo nel corso dei prossimi mesi come la situazione nella provincia del Sichuan gradualmente migliorata. Alla fine, una manciata di importanti siti web di notizie e media sono stati resi accessibili online nella regione, anche se con pagine web drammaticamente ridotte.\", 'qas': [{'answers': [{'answer_start': 165, 'text': 'internet'}], 'id': '56cde07662d2951400fa6947', 'question': \"Quali capacità sono state tagliate all' intera area del Sichuan?\"}, {'answers': [{'answer_start': 321, 'text': 'mesi'}], 'id': '56cde07662d2951400fa6948', 'question': 'Quanto tempo ci è voluto per ripristinare queste capacità?'}, {'answers': [{'answer_start': 42, 'text': 'telecomunicazioni'}], 'id': '56d51ea52593cc1400307a89', 'question': 'Cosa è stato tagliato dopo il terremoto?'}, {'answers': [{'answer_start': 436, 'text': 'siti web di notizie e media'}], 'id': '56d51ea52593cc1400307a8c', 'question': \"Quali servizi internet sono diminuiti nell' area?\"}]}, {'context': \"China Mobile ha avuto più di 2.300 stazioni base sospese a causa di interruzione dell' alimentazione o grave congestione del traffico delle telecomunicazioni. Metà delle comunicazioni wireless sono andate perse nella provincia del Sichuan. Il servizio di China Unicom a Wenchuan e in quattro contee vicine è stato interrotto, con più di 700 torri sospese.\", 'qas': [{'answers': [{'answer_start': 29, 'text': '2.300'}], 'id': '56cde11f62d2951400fa694c', 'question': 'Quante stazioni base sono state sospese?'}, {'answers': [{'answer_start': 29, 'text': '2.300'}], 'id': '56d5202a2593cc1400307a93', 'question': 'Quante stazioni base China Mobile hanno smesso di funzionare?'}, {'answers': [{'answer_start': 109, 'text': 'congestione del traffico'}], 'id': '56d5202a2593cc1400307a94', 'question': \"Oltre all' interruzione dell' alimentazione, cosa ha causato la sospensione delle telecomunicazioni?\"}, {'answers': [{'answer_start': 159, 'text': 'Metà'}], 'id': '56d5202a2593cc1400307a95', 'question': 'Quante comunicazioni wireless sono fallite nel Sichuan?'}, {'answers': [{'answer_start': 255, 'text': 'China Unicom'}], 'id': '56d5202a2593cc1400307a96', 'question': 'Chi servizio a Wenchuan è stato interrotto?'}, {'answers': [{'answer_start': 337, 'text': '700'}], 'id': '56d5202a2593cc1400307a97', 'question': 'Quante torri di China Unicom sono state tagliate?'}]}, {'context': \"Inizialmente, i funzionari non erano in grado di contattare la Wolong National Nature Reserve, sede di circa 280 panda giganti. Tuttavia, il Ministero degli Esteri in seguito ha detto che un gruppo di 31 turisti britannici che visitano la riserva Wolong Panda nella zona colpita dal terremoto ha restituito sicuro e indenne a Chengdu. Tuttavia, il benessere di un numero ancora maggiore di panda nelle vicine riserve del panda è rimasto sconosciuto. Cinque guardie di sicurezza della riserva sono state uccise dal terremoto. Sei panda sono fuggiti dopo che i loro recinti sono stati danneggiati. Entro il 20 maggio, due panda presso la riserva sono stati trovati per essere feriti, mentre la ricerca è continuata per altri due panda adulti che è andato perduto dopo il terremoto. Al 28 maggio 2008 mancava ancora un panda. Il panda mancante è stato poi trovato morto sotto le macerie di un recinto. Mao Mao Mao Mao, nove anni, madre di cinque anni nel centro di allevamento, è stata scoperta lunedì, il suo corpo schiacciato da un muro nel suo recinto. I detentori di panda e altri lavoratori hanno messo i suoi resti in una piccola cassa di legno e l' hanno seppellita fuori dal centro di allevamento.\", 'qas': [{'answers': [{'answer_start': 103, 'text': 'circa 280'}], 'id': '56cde1f462d2951400fa695f', 'question': 'Quanti panda vivono nella riserva?'}, {'answers': [{'answer_start': 201, 'text': '31'}], 'id': '56cde1f462d2951400fa6960', 'question': 'Quanti visitatori britannici della Riserva hanno lasciato illeso?'}, {'answers': [{'answer_start': 109, 'text': '2'}], 'id': '56cde1f462d2951400fa6961', 'question': 'Quanti panda sono stati feriti?'}, {'answers': [{'answer_start': 63, 'text': 'Wolong National Nature Reserve'}], 'id': '56d521ee2593cc1400307a9d', 'question': 'Quale centro naturalistico è stato tagliato?'}, {'answers': [{'answer_start': 525, 'text': 'Sei'}], 'id': '56d521ee2593cc1400307a9f', 'question': 'Quanti panda sono fuggiti dalla riserva?'}, {'answers': [{'answer_start': 450, 'text': 'cinque'}], 'id': '56d521ee2593cc1400307aa0', 'question': 'Quante guardie di sicurezza sono morte nella riserva?'}, {'answers': [{'answer_start': 899, 'text': 'Mao Mao Mao'}], 'id': '56d521ee2593cc1400307aa1', 'question': 'Quale famoso panda è stato ucciso sotto le macerie?'}]}, {'context': \"La centrale idroelettrica Zipingpu (semplificata cinese:????; tradizionale cinese:??????) situata a 20 km ad est dell' epicentro è stata danneggiata. Da una recente ispezione è emerso che il danno era meno grave di quanto inizialmente temuto e resta strutturalmente stabile e sicuro. Il serbatoio di Tulong a monte rischia di crollare. Circa 2.000 soldati sono stati assegnati a Zipingpu, cercando di liberare la pressione attraverso lo sfioratore. In totale sono state segnalate 391 dighe, per la maggior parte di piccole dimensioni, danneggiate dal sisma.\", 'qas': [{'answers': [{'answer_start': 342, 'text': '2.000'}], 'id': '56cde29b62d2951400fa696b', 'question': 'Quante truppe sono state assegnate a Zipingpu?'}, {'answers': [{'answer_start': 480, 'text': '391'}], 'id': '56cde29b62d2951400fa696c', 'question': 'Quante dighe sono state danneggiate?'}, {'answers': [{'answer_start': 100, 'text': '20 km'}], 'id': '56d523bd2593cc1400307aa8', 'question': \"Quanto era vicina all' epicentro la centrale elettrica?\"}, {'answers': [{'answer_start': 201, 'text': 'meno grave'}], 'id': '56d523bd2593cc1400307aa9', 'question': 'Che cosa è emerso da una recente ispezione sui danni alla centrale?'}, {'answers': [{'answer_start': 480, 'text': '391'}], 'id': '56d523bd2593cc1400307aab', 'question': 'Qual è il numero totale di dighe danneggiate?'}]}, {'context': \"Secondo i funzionari di Stato cinesi, il terremoto ha causato 69.180 morti conosciute tra cui 68.636 nella provincia del Sichuan; 18.498 persone sono elencate come scomparse, e 374.176 feriti, ma queste cifre possono ulteriormente aumentare con l' arrivo di più rapporti.\", 'qas': [{'answers': [{'answer_start': 94, 'text': '68.636'}], 'id': '56cde34662d2951400fa6973', 'question': 'Quanti decessi sono stati segnalati solo nella provincia del Sichuan?'}, {'answers': [{'answer_start': 130, 'text': '18.498'}], 'id': '56cde34662d2951400fa6974', 'question': \"Quante persone sono state inserite nell' elenco come scomparse?\"}, {'answers': [{'answer_start': 177, 'text': '374.176'}], 'id': '56cde34662d2951400fa6975', 'question': 'Quante persone sono rimaste ferite?'}, {'answers': [{'answer_start': 94, 'text': '68.636'}], 'id': '56d525192593cc1400307ab1', 'question': 'Quanti morti nel Sichuan?'}, {'answers': [{'answer_start': 62, 'text': '69.180'}], 'id': '56d525192593cc1400307ab2', 'question': 'Qual è il conteggio totale dei morti noti causati dal terremoto?'}, {'answers': [{'answer_start': 130, 'text': '18.498'}], 'id': '56d525192593cc1400307ab3', 'question': 'Qual è il numero di persone scomparse?'}, {'answers': [{'answer_start': 177, 'text': '374.176'}], 'id': '56d525192593cc1400307ab4', 'question': 'Quante persone sono rimaste ferite?'}]}, {'context': \"Una squadra di soccorso ha riportato solo 2.300 sopravvissuti della città di Yingxiu nella contea di Wenchuan, su una popolazione totale di circa 9.000 abitanti. Da 3.000 a 5.000 persone sono state uccise nella sola contea di Beichuan, nel Sichuan; nello stesso luogo, 10.000 persone sono rimaste ferite e l' 80% degli edifici sono stati distrutti. L' antica sede della contea di Beichuan è stata abbandonata e conservata come parte del Beichuan Earthquake Museum. Otto scuole sono state abbattute nel Dujiangyan. Un cinquantaseienne è stato ucciso a Dujiangyan durante un tentativo di salvataggio sulla Lingyanshan Ropeway, dove a causa del terremoto 11 turisti taiwanesi erano rimasti intrappolati all' interno di funivie dal 13 maggio. Un ragazzo di 4 anni di nome Zhu Shaowei (cinese tradizionale:???; cinese semplificato:???; pinyin: Zh? Shàowéi) è stato ucciso anche a Mianzhu City quando una casa è crollata su di lui e un altro è stato segnalato perduto.\", 'qas': [{'answers': [{'answer_start': 42, 'text': '2.300'}], 'id': '56ceb9c4aab44d1400b8892b', 'question': 'Quanti sopravvissuti ci sono stati da Yingxiu?'}, {'answers': [{'answer_start': 146, 'text': '9.000'}], 'id': '56ceb9c4aab44d1400b8892d', 'question': 'Quante persone in totale vivevano a Yingxiu?'}, {'answers': [{'answer_start': 162, 'text': 'Da 3.000 a 5.000'}], 'id': '56ceb9c4aab44d1400b8892e', 'question': 'Quante persone sono state uccise nella contea di Beichuan?'}, {'answers': [{'answer_start': 269, 'text': '10.000'}], 'id': '56ceb9c4aab44d1400b8892f', 'question': 'Quante persone sono rimaste ferite nella contea di Beichuan?'}, {'answers': [{'answer_start': 42, 'text': '2.300'}], 'id': '56d5307f2593cc1400307abb', 'question': \"Quanti sopravvissuti c' erano nella città di Yingxiu?\"}, {'answers': [{'answer_start': 140, 'text': 'circa 9.000'}], 'id': '56d5307f2593cc1400307abc', 'question': 'Qual era la popolazione precedente di Yingxiu?'}, {'answers': [{'answer_start': 162, 'text': 'Da 3.000 a 5.000'}], 'id': '56d5307f2593cc1400307abd', 'question': 'Quanti residenti sono stati uccisi nella contea di Beichuan?'}, {'answers': [{'answer_start': 269, 'text': '10.000'}], 'id': '56d5307f2593cc1400307abe', 'question': 'Quanto è stato grande il numero di feriti nella contea di Beichuan?'}, {'answers': [{'answer_start': 465, 'text': 'Otto scuole'}], 'id': '56d5307f2593cc1400307abf', 'question': 'Qual è il numero di scuole crollate in Dujiangyan?'}]}, {'context': 'Gli esperti sottolineano che il terremoto ha colpito un\\' area in gran parte trascurata e non toccata dall\\' ascesa economica della Cina. L\\' assistenza sanitaria è carente nelle zone interne come il Sichuan, il che mette in evidenza il crescente divario tra gli abitanti urbani prosperi e le popolazioni rurali in difficoltà. Vice Ministro della Sanità Gao Qiang ha detto ai giornalisti a Pechino che il \"sistema sanitario pubblico in Cina è insufficiente\".', 'qas': [{'answers': [{'answer_start': 351, 'text': 'Gao Qiang'}], 'id': '56ceba72aab44d1400b88936', 'question': 'Chi era il Vice Ministro della Salute?'}, {'answers': [{'answer_start': 176, 'text': 'zone interne'}], 'id': '56d5324d2593cc1400307ac6', 'question': \"Dove è povera l' assistenza sanitaria in Cina?\"}, {'answers': [{'answer_start': 440, 'text': 'insufficiente'}], 'id': '56d5324d2593cc1400307ac7', 'question': 'Che cosa ha chiamato il Vice Ministro della Salute il sistema sanitario pubblico in Cina?'}]}, {'context': 'In termini di feriti scolastici, migliaia di bambini sono morti a causa di costruzioni scadenti. A Mianyang City, sette scuole sono crollate, seppellendo almeno 1.700 persone. Almeno 7.000 edifici scolastici in tutta la provincia sono crollati. Altri 700 studenti sono stati sepolti in una scuola di Hanwang. Alla scuola elementare Juyuan sono morti almeno 600 studenti e personale. Fino a 1.300 bambini e insegnanti sono morti alla Beichuan Middle School.', 'qas': [{'answers': [{'answer_start': 33, 'text': 'migliaia'}], 'id': '56cebae8aab44d1400b8893d', 'question': 'Quanti bambini sono morti a causa di costruzioni scadenti?'}, {'answers': [{'answer_start': 114, 'text': 'sette'}], 'id': '56cebae8aab44d1400b8893e', 'question': 'Quante scuole sono crollate a Mianyang City?'}, {'answers': [{'answer_start': 161, 'text': '1.700'}], 'id': '56cebae8aab44d1400b8893f', 'question': 'Quante persone sono state sepolte nelle scuole crollate?'}, {'answers': [{'answer_start': 183, 'text': '7.000'}], 'id': '56cebae8aab44d1400b88940', 'question': 'Quanti edifici scolastici sono crollati in provincia?'}, {'answers': [{'answer_start': 163, 'text': '700'}], 'id': '56cebae8aab44d1400b88941', 'question': 'Quanti studenti sono stati sepolti in una scuola di Hanwang?'}, {'answers': [{'answer_start': 114, 'text': 'sette'}], 'id': '56d533a52593cc1400307ad0', 'question': 'Quante scuole sono crollate a Mianyang City?'}, {'answers': [{'answer_start': 183, 'text': '7.000'}], 'id': '56d533a52593cc1400307ad1', 'question': 'Quanti edifici scolastici sono caduti in tutta la provincia?'}, {'answers': [{'answer_start': 357, 'text': '600'}], 'id': '56d533a52593cc1400307ad2', 'question': 'Quanti sono stati uccisi alla scuola elementare di Juyuan?'}]}, {'context': \"I dettagli delle vittime scolastiche sono stati oggetto di indagini non governative dal dicembre 2008 da parte di volontari, tra cui l' artista e architetto Ai Weiwei, che dal marzo 2009 ha costantemente pubblicato aggiornamenti sul suo blog. Il conteggio ufficiale degli studenti uccisi nel terremoto è stato rilasciato solo il 7 maggio 2009, quasi un anno dopo il terremoto. Secondo l' agenzia di stampa statale Xinhua, il terremoto ha ucciso 5.335 studenti e lasciato altri 546 bambini disabili. All' indomani del terremoto, il governo cinese ha dichiarato che i genitori che avevano perso i loro soli figli avrebbero ricevuto cure gratuite da cliniche di fertilità per invertire vasectomie e legature tubarie condotte dalle autorità di pianificazione familiare.\", 'qas': [{'answers': [{'answer_start': 88, 'text': 'dicembre 2008'}], 'id': '56cebb71aab44d1400b88951', 'question': \"Quando si è svolta un' indagine in seguito a incidenti scolastici?\"}, {'answers': [{'answer_start': 329, 'text': '7 maggio 2009'}], 'id': '56cebb71aab44d1400b88952', 'question': 'Quando è stato rilasciato il conteggio ufficiale degli studenti uccisi nel terremoto?'}, {'answers': [{'answer_start': 445, 'text': '5.335'}], 'id': '56cebb71aab44d1400b88953', 'question': 'Quanti studenti sono stati uccisi a Xinhua?'}, {'answers': [{'answer_start': 477, 'text': '546'}], 'id': '56cebb71aab44d1400b88954', 'question': 'Quanti studenti sono stati disabili a Xinhua?'}, {'answers': [{'answer_start': 329, 'text': '7 maggio 2009'}], 'id': '56d5357b2593cc1400307ad9', 'question': 'Qual è stata la data in cui è stato rilasciato il numero ufficiale degli studenti uccisi nel terremoto?'}, {'answers': [{'answer_start': 157, 'text': 'Ai Weiwei'}], 'id': '56d5357b2593cc1400307ada', 'question': 'Chi ha tenuto un blog sui decessi scolastici?'}, {'answers': [{'answer_start': 445, 'text': '5.335'}], 'id': '56d5357b2593cc1400307adb', 'question': 'Qual è il numero totale di bambini che hanno perso la scuola?'}, {'answers': [{'answer_start': 477, 'text': '546'}], 'id': '56d5357b2593cc1400307adc', 'question': 'Quanti bambini sono disabili?'}, {'answers': [{'answer_start': 647, 'text': 'cliniche di fertilità'}], 'id': '56d5357b2593cc1400307add', 'question': 'Dove ha deciso il governo cinese che i genitori che avevano perso i figli potessero farsi curare gratuitamente?'}]}, {'context': \"Il terremoto ha lasciato almeno 5 milioni di persone senza alloggio, anche se il numero potrebbe raggiungere gli 11 milioni. Milioni di animali da allevamento e una notevole quantità di agricoltura sono stati distrutti, tra cui 12,5 milioni di animali, principalmente uccelli. Nella provincia del Sichuan sono morti un milione di suini su un totale di 60 milioni. Catastrophe modeling firm AIR Worldwide ha riportato stime ufficiali delle perdite degli assicuratori pari a 1 miliardo di dollari USA dal terremoto; i danni totali stimati superano i 20 miliardi di dollari USA. Valorizza Chengdu, all' epoca con una popolazione urbana di 4,5 milioni di persone, a circa 115 miliardi di dollari, con solo una piccola parte coperta da assicurazioni.\", 'qas': [{'answers': [{'answer_start': 32, 'text': '5 milioni'}], 'id': '56cebbdeaab44d1400b88959', 'question': 'Quante persone sono rimaste senza alloggio?'}, {'answers': [{'answer_start': 113, 'text': '11 milioni'}], 'id': '56cebbdeaab44d1400b8895a', 'question': 'Quante persone potrebbero essere potenzialmente senza alloggio?'}, {'answers': [{'answer_start': 228, 'text': '12,5 milioni'}], 'id': '56cebbdeaab44d1400b8895b', 'question': 'Quanti animali sono stati uccisi?'}, {'answers': [{'answer_start': 113, 'text': '11 milioni'}], 'id': '56d5372f2593cc1400307ae4', 'question': 'Quante persone potrebbero effettivamente essere senzatetto?'}, {'answers': [{'answer_start': 228, 'text': '12,5 milioni di animali'}], 'id': '56d5372f2593cc1400307ae5', 'question': 'Quanto bestiame è andato perduto?'}, {'answers': [{'answer_start': 316, 'text': 'un milione'}], 'id': '56d5372f2593cc1400307ae6', 'question': 'Quanti maiali sono morti a causa del terremoto nel Sichuan?'}]}, {'context': 'Reginald DesRoches, professore di ingegneria civile e ambientale presso la Georgia Tech, ha sottolineato che i danni massicci di proprietà e case nella zona sismica sono dovuti al fatto che la Cina ha creato un adeguato codice di progettazione sismica solo dopo il devastante terremoto di Tangshan del 1976. DesRoches ha detto:\"Se gli edifici fossero più vecchi e costruiti prima di quel terremoto del 1976, è probabile che non siano stati costruiti per un\\' adeguata forza sismica\".', 'qas': [{'answers': [{'answer_start': 0, 'text': 'Reginald DesRoches'}], 'id': '56cebcb4aab44d1400b88963', 'question': 'Chi era professore di ingegneria civile e ambientale alla Georgia Tech?'}, {'answers': [{'answer_start': 20, 'text': 'professore di ingegneria civile e ambientale'}], 'id': '56d538bc2593cc1400307aed', 'question': 'Qual è la professione di Reginald DesRoches?'}, {'answers': [{'answer_start': 302, 'text': '1976'}], 'id': '56d538bc2593cc1400307aee', 'question': \"Quando la Cina ha creato un codice di progettazione sismica per l' edilizia?\"}, {'answers': [{'answer_start': 276, 'text': 'terremoto di Tangshan'}], 'id': '56d538bc2593cc1400307aef', 'question': \"Che catastrofe li ha spinti a fare un codice di progettazione dell' edificio /.?\"}]}, {'context': \"Nei giorni successivi al disastro, un team internazionale di ingegneri è stato inviato nella regione per effettuare un' indagine preliminare dettagliata sugli edifici danneggiati. I loro risultati mostrano una varietà di ragioni per cui molte costruzioni non sono riuscite a resistere al terremoto.\", 'qas': []}, {'context': 'Le notizie di cronaca indicano che i villaggi rurali più poveri sono stati colpiti più duramente. Swaminathan Krishnan, assistente professore di ingegneria civile e geofisica presso il California Institute of Technology ha dichiarato:\"Il terremoto si è verificato nella parte rurale della Cina. Probabilmente, molti degli edifici sono stati appena costruiti; non sono stati progettati, per così dire. Swaminathan Krishnan ha aggiunto:\"In Cina ci sono norme edilizie molto forti, che si occupano di terremoto e problemi di progettazione sismica.', 'qas': [{'answers': [{'answer_start': 98, 'text': 'Swaminathan Krishnan'}], 'id': '56cebd8aaab44d1400b88978', 'question': 'Chi era professore assistente di ingegneria civile e geofisica presso il California Institute of Technology?'}, {'answers': [{'answer_start': 270, 'text': 'parte rurale'}], 'id': '56d53bf82593cc1400307afd', 'question': 'In quale parte della Cina si è verificato il terremoto?'}]}, {'context': 'Anche con le cinque città più grandi del Sichuan che subiscono solo danni di modesta entità a causa del terremoto, alcune stime della perdita economica superano i 75 miliardi di dollari, rendendo il terremoto uno dei disastri naturali più costosi della storia cinese.', 'qas': [{'answers': [{'answer_start': 163, 'text': '75 miliardi di dollari'}], 'id': '56cebdd0aab44d1400b8897f', 'question': 'Qual è la stima della perdita economica del terremoto?'}, {'answers': [{'answer_start': 163, 'text': '75 miliardi di dollari'}], 'id': '56d53d9a2593cc1400307b08', 'question': 'Qual è la stima delle perdite economiche?'}, {'answers': [{'answer_start': 253, 'text': 'storia cinese'}], 'id': '56d53d9a2593cc1400307b09', 'question': 'Chi è questo uno dei disastri più costosi della storia di?'}, {'answers': [{'answer_start': 13, 'text': 'cinque città più grandi'}], 'id': '56d53d9a2593cc1400307b0a', 'question': 'Quali città del Sichuan hanno subito danni minori?'}]}, {'context': \"Forti scosse di assestamento hanno continuato a colpire anche mesi dopo il terremoto principale. Il 25 maggio, una scossa di assestamento di 6.0 Mw (6.4 Ms secondo CEA) ha colpito a nord-est dell' epicentro del terremoto originale, nella contea di Qingchuan, Sichuan, causando otto morti, 1000 feriti e distruggendo migliaia di edifici. Il 27 maggio, due scosse di assestamento, una 5.2 Mw nella contea di Qingchuan e una 5.7 Mw nella contea di Ningqiang, Shaanxi, hanno portato al crollo di oltre 420.000 case e feriti 63 persone. La stessa area ha sofferto due scosse di assestamento più di 5,6 e 6,0 Ms (5,8 e 5,5 Mw, rispettivamente, secondo USGS) il 23 luglio, con conseguente 1 decesso, 6 feriti gravi, crollo di centinaia di case e danni chilometri di autostrade. Pingwu County e Beichuan County, Sichuan, anche a nord-est di Wenchuan e vicino all' epicentro di un terremoto della sig. ra 7.2 nel 1976, subì un terremoto di 6.1 Ms aftershock (5.7 Mw secondo l' USGS) il 1 agosto 1; ha causato 2 morti, 345 feriti, crollo di 707 case, danni a oltre 1.000 case, e bloccato 25 chilometri (16 mi) di strade di campagna.\", 'qas': [{'answers': [{'answer_start': 141, 'text': '6.0 Mw'}], 'id': '56d540072593cc1400307b0f', 'question': 'Quanto è stata forte la scossa di assestamento del 25 maggio nella contea di Qingchuan?'}, {'answers': [{'answer_start': 289, 'text': '1000'}], 'id': '56d540072593cc1400307b10', 'question': 'Quante persone sono rimaste ferite durante la scossa di assestamento del 25 maggio?'}, {'answers': [{'answer_start': 520, 'text': '63'}], 'id': '56d540072593cc1400307b12', 'question': 'Durante il 27 maggio scosse di assestamento, quante persone sono rimaste ferite?'}, {'answers': [{'answer_start': 248, 'text': 'Qingchuan, Sichuan'}], 'id': '56d540072593cc1400307b13', 'question': \"Dov' è stata la scossa di assestamento del 5 agosto che ha causato ampie frane di collina?\"}]}, {'context': 'Vice governatore esecutivo Wei Hong Wei ha confermato il 21 novembre 2008 che più di 90.000 persone in totale erano morti o dispersi nel terremoto. Ha dichiarato che 200.000 case sono state ricostruite e 685.000 sono in fase di ricostruzione, ma 1,94 milioni di famiglie sono ancora prive di ricovero permanente. Sono state ricostruite 1.300 scuole, con il trasferimento iniziale di 25 città, tra cui Beichuan e Wenchuan, due delle aree più devastate. Il governo ha speso 441 miliardi di dollari per gli sforzi di soccorso e ricostruzione.', 'qas': [{'answers': [{'answer_start': 27, 'text': 'Wei Hong'}], 'id': '56cebef6aab44d1400b88997', 'question': 'Chi era il vice governatore esecutivo?'}, {'answers': [{'answer_start': 166, 'text': '200.000'}], 'id': '56cebef6aab44d1400b88999', 'question': 'Quante case sono state ricostruite?'}, {'answers': [{'answer_start': 336, 'text': '1.300'}], 'id': '56cebef6aab44d1400b8899b', 'question': 'Quante scuole sono state ricostruite?'}, {'answers': [{'answer_start': 27, 'text': 'Wei Hong'}], 'id': '56d548552593cc1400307b19', 'question': 'Chi ha parlato dei morti e dei dispersi il 21 novembre 2008?'}, {'answers': [{'answer_start': 85, 'text': '90.000'}], 'id': '56d548552593cc1400307b1a', 'question': 'Quante persone hanno detto Wei Hong che erano morte o mancanti?'}, {'answers': [{'answer_start': 166, 'text': '200.000'}], 'id': '56d548552593cc1400307b1b', 'question': 'Quante case sono state ricostruite?'}, {'answers': [{'answer_start': 204, 'text': '685.000'}], 'id': '56d548552593cc1400307b1c', 'question': 'Quante case erano ancora in costruzione?'}]}, {'context': \"Il segretario generale e presidente Hu Jintao ha annunciato che la risposta alle catastrofi sarà rapida. A soli 90 minuti dal terremoto, il premier Wen Jiabao, che ha una formazione accademica in geomeccanica, ha volato nella zona del terremoto per sorvegliare i lavori di salvataggio. Poco dopo, il Ministero della Salute ha detto che aveva inviato dieci squadre mediche di emergenza a Wenchuan County. Lo stesso giorno, il comando militare della regione militare di Chengdu ha inviato 50.000 soldati e polizia armata per aiutare con il lavoro di soccorso in caso di catastrofe nella contea di Wenchuan. Tuttavia, a causa del terreno accidentato e della vicinanza dell' epicentro del sisma, i soldati hanno avuto molte difficoltà ad ottenere aiuto nelle regioni rurali della provincia.\", 'qas': [{'answers': [{'answer_start': 137, 'text': 'il premier Wen Jiabao'}], 'id': '56cebf6aaab44d1400b889a1', 'question': \"Chi ha volato nella zona sismica 90 minuti dopo l' urto?\"}, {'answers': [{'answer_start': 196, 'text': 'geomeccanica'}], 'id': '56cebf6aaab44d1400b889a2', 'question': \"In cosa c' era il background di Premier Wen Jiabao?\"}, {'answers': [{'answer_start': 261, 'text': 'i lavori di salvataggio'}], 'id': '56cebf6aaab44d1400b889a3', 'question': 'Che cosa ha supervisionato Jiabao nella regione?'}, {'answers': [{'answer_start': 487, 'text': '50.000'}], 'id': '56cebf6aaab44d1400b889a4', 'question': 'Quante truppe sono state inviate dai militari Chengdu?'}, {'answers': [{'answer_start': 350, 'text': 'dieci'}], 'id': '56d54a582593cc1400307b25', 'question': 'Quante squadre mediche sono state inviate nella contea di Wenchuan?'}, {'answers': [{'answer_start': 487, 'text': '50.000'}], 'id': '56d54a582593cc1400307b26', 'question': 'Quante truppe sono state inviate nella zona per operazioni di soccorso?'}]}, {'context': 'La Commissione nazionale di soccorso in caso di catastrofe ha avviato un \"piano di emergenza di II livello\", che copre la categoria più grave di catastrofi naturali. Il piano è salito al livello I alle 22:15 CST, 12 maggio.', 'qas': [{'answers': [{'answer_start': 197, 'text': 'alle 22:15 CST, 12 maggio'}], 'id': '56cebfcaaab44d1400b889ab', 'question': 'Quando è salito il piano al livello I?'}, {'answers': [{'answer_start': 132, 'text': 'più grave'}], 'id': '56d54bc82593cc1400307b2e', 'question': \"Quale classe di catastrofi è un' emergenza di livello II?\"}, {'answers': [{'answer_start': 3, 'text': 'Commissione nazionale di soccorso in caso di catastrofe'}], 'id': '56d54bc82593cc1400307b30', 'question': 'Quale dipartimento ha avviato il piano di emergenza?'}]}, {'context': \"Un' équipe di soccorso in caso di terremoto di 184 persone (composta da 12 persone dell' Ufficio sismologico di Stato, 150 del Comando dell' Area militare di Pechino e 22 dell' Ospedale Generale della Polizia Armata) ha lasciato Pechino dall' aeroporto di Nanyuan alla fine del 12 maggio in due aerei da trasporto militare per raggiungere la contea di Wenchuan.\", 'qas': [{'answers': [{'answer_start': 47, 'text': '184'}], 'id': '56cec033aab44d1400b889af', 'question': 'Quante persone erano nel team di soccorso in caso di terremoto?'}, {'answers': [{'answer_start': 72, 'text': '12'}], 'id': '56cec033aab44d1400b889b0', 'question': \"Quante squadre di soccorso provenivano dall' Ufficio sismologico di Stato?\"}, {'answers': [{'answer_start': 119, 'text': '150'}], 'id': '56cec033aab44d1400b889b1', 'question': 'Quanti membri della squadra erano militari?'}, {'answers': [{'answer_start': 168, 'text': '22'}], 'id': '56cec033aab44d1400b889b2', 'question': 'Quanti membri della squadra provenivano dalla polizia?'}, {'answers': [{'answer_start': 47, 'text': '184'}], 'id': '56d5d41b1c85041400946e0d', 'question': 'Quante persone costituivano la squadra di soccorso?'}, {'answers': [{'answer_start': 119, 'text': '150'}], 'id': '56d5d41b1c85041400946e0e', 'question': \"Quanti soldati provenivano dall' esercito di Pechino?\"}, {'answers': [{'answer_start': 177, 'text': 'Ospedale Generale della Polizia Armata'}], 'id': '56d5d41b1c85041400946e0f', 'question': 'Da dove provengono 22 della squadra di soccorso?'}]}, {'context': 'Nel China Digital Times un articolo riporta un\\' analisi approfondita da parte di un presunto ingegnere edile cinese conosciuto online come \"Book Blade\" (??), che ha dichiarato: un\\' analisi approfondita da parte di un presunto ingegnere edile cinese.', 'qas': [{'answers': [{'answer_start': 140, 'text': 'Book Blade'}], 'id': '56cec11faab44d1400b889c8', 'question': \"Dov' è stato riportato un articolo sullo scandalo?\"}, {'answers': [{'answer_start': 4, 'text': 'China Digital Times'}], 'id': '56d64d231c85041400947089', 'question': 'Qual è stato il nome della persona che ha pubblicato un rapporto nel China Digital Times?'}]}, {'context': 'In occasione della Festa dei bambini, il 1° giugno 2008, molti genitori si sono recati sulle macerie delle scuole per piangere i loro figli. I bambini sopravvissuti, che vivevano per lo più in centri di soccorso, hanno compiuto cerimonie che hanno segnato il giorno speciale, ma anche riconosciuto il terremoto.', 'qas': [{'answers': [{'answer_start': 19, 'text': 'Festa dei bambini'}], 'id': '56cec174aab44d1400b889cb', 'question': 'Che cosa è stato chiamato 1 giugno 2008?'}]}, {'context': \"Le imprese statali centrali hanno donato complessivamente più di 48,6 milioni di dollari. China National Petroleum Corp e Sinopec ha donato 10 milioni di yuan ciascuno per l' area del disastro.\", 'qas': [{'answers': [{'answer_start': 140, 'text': '10 milioni di yuan'}], 'id': '56cec1ffaab44d1400b889de', 'question': 'Quanto ha donato China National Petroleum Corp e Sinopec?'}, {'answers': [{'answer_start': 65, 'text': '48,6 milioni'}], 'id': '56d6647b1c850414009470ed', 'question': 'Quanto hanno donato le imprese statali centrali?'}, {'answers': [{'answer_start': 140, 'text': '10 milioni di yuan ciascuno'}], 'id': '56d6647b1c850414009470ee', 'question': 'Quanto ha donato China National Petroleum e Sinopec?'}]}, {'context': \"Il 16 maggio la Cina ha dichiarato di aver ricevuto anche 457 milioni di dollari in donazioni di denaro e beni per gli sforzi di salvataggio finora compiuti, compresi 83 milioni di dollari provenienti da 19 paesi e quattro organizzazioni internazionali. L' Arabia Saudita è stata il principale donatore di aiuti alla Cina, fornendo quasi 40.000.000 di euro in assistenza finanziaria e altri 8.000.000 di euro di materiale di soccorso.\", 'qas': [{'answers': [{'answer_start': 58, 'text': '457 milioni di dollari'}], 'id': '56cec2a1aab44d1400b889e1', 'question': 'Quanto ha ricevuto la Cina in denaro e beni donati?'}, {'answers': [{'answer_start': 204, 'text': '19 paesi'}], 'id': '56cec2a1aab44d1400b889e2', 'question': 'Quanti paesi hanno donato?'}, {'answers': [{'answer_start': 215, 'text': 'quattro'}], 'id': '56cec2a1aab44d1400b889e3', 'question': 'Quante organizzazioni internazionali hanno donato?'}, {'answers': [{'answer_start': 257, 'text': 'Arabia Saudita'}], 'id': '56cec2a1aab44d1400b889e4', 'question': 'Quale paese è stato il maggiore donatore di aiuti alla Cina?'}, {'answers': [{'answer_start': 167, 'text': '83 milioni'}], 'id': '56d6696d1c850414009470fb', 'question': 'Quanto denaro è stato donato da fonti straniere?'}, {'answers': [{'answer_start': 257, 'text': 'Arabia Saudita'}], 'id': '56d6696d1c850414009470fc', 'question': 'Quale paese è stato il maggiore donatore di aiuti alla Cina?'}, {'answers': [{'answer_start': 215, 'text': 'quattro'}], 'id': '56d6696d1c850414009470fe', 'question': 'Quante organizzazioni internazionali hanno fatto donazioni?'}]}, {'context': 'Nel 2008, il Consiglio di Stato ha stabilito un piano di sostegno alla controparte????????? Il piano è quello di organizzare 19 province orientali e centrali e municipalitie per aiutare 18 contee, su \"una provincia a una contea interessata\" base. Il piano ha una durata di 3 anni, e costa non meno dell\\' uno per cento del bilancio della provincia o del comune. un piano di sostegno di contropartita.', 'qas': [{'answers': [{'answer_start': 273, 'text': '3 anni'}], 'id': '56d66f3e1c85041400947117', 'question': 'Quanto dura il piano?'}, {'answers': [{'answer_start': 304, 'text': 'uno per cento'}], 'id': '56d66f3e1c85041400947118', 'question': 'Qual è il costo per il bilancio della provincia?'}]}, {'context': 'Un articolo in Science suggerisce che la costruzione e il riempimento della diga di Zipingpu potrebbe aver innescato il terremoto. L\\' ingegnere capo del Sichuan Geology and Mineral Bureau ha detto che lo spostamento improvviso di una grande quantità d\\' acqua nella regione avrebbe potuto allentare la tensione tra i due lati del guasto, permettendo loro di allontanarsi, e avrebbe potuto aumentare la pressione diretta su di esso, causando una violenta rottura. L\\' effetto è stato \"25 volte più\" dello stress naturale del movimento tettonico di un anno. Il governo aveva ignorato gli avvertimenti relativi a tanti progetti di dighe su larga scala in un\\' area sismicamente attiva. Ai ricercatori è stato negato l\\' accesso ai dati sismologici e geologici per esaminare ulteriormente la causa del terremoto.', 'qas': [{'answers': [{'answer_start': 554, 'text': 'Il governo'}], 'id': '56d677f31c85041400947145', 'question': 'Chi ha ignorato gli avvertimenti sulle dighe nella zona?'}, {'answers': [{'answer_start': 713, 'text': 'accesso ai dati sismologici e geologici'}], 'id': '56d677f31c85041400947147', 'question': 'Che cosa sono stati negati ai ricercatori?'}]}, {'context': 'Il terremoto ha inoltre offerto ai ricercatori l\\' opportunità di aggiornare i dati per modellare le previsioni future. Utilizzando i dati dell\\' osservatorio geomagnetico Intermagnet Lanzhou, i geologi Lazo Pekevski della Ss. Cyril e Methodius University di Skopje in Macedonia e Strachimir Mavrodiev dell\\' Accademia bulgara delle Scienze hanno cercato di stabilire un \"metodo di previsione temporale\" attraverso la raccolta di statistiche sul geomagnetismo con potenziale gravitazionale delle maree. Utilizzando questo metodo, si diceva che avessero previsto il tempo del terremoto del Sichuan del 2008 con una precisione di ± 1 giorno. Lo stesso studio, tuttavia, riconosce la limitazione dei modelli di previsione dei terremoti e non menziona che la localizzazione del sisma potrebbe essere accuratamente prevista.', 'qas': [{'answers': [{'answer_start': 559, 'text': 'il tempo del terremoto del Sichuan del 2008'}], 'id': '56cec484aab44d1400b88a09', 'question': 'Cosa prevedevano i professori?'}, {'answers': [{'answer_start': 427, 'text': 'statistiche'}], 'id': '56d675ed1c8504140094713d', 'question': 'Cosa hanno raccolto per usare questo metodo?'}]}, {'context': 'In una conferenza stampa tenuta dall\\' Ufficio informazioni del Consiglio di Stato il giorno dopo il terremoto, il geologo Zhang Xiaodong, vice direttore del CEA Seismic Monitoring Network Center, ha ribadito che la previsione del terremoto era un problema globale, nel senso che non esistono metodi comprovati, e che nessuna notifica di previsione è stata ricevuta prima del terremoto. Il sismologo Gary Gibson dell\\' Università di Monash University in Australia ha detto a Deutsche Presse-Agentur che anche lui non vedeva nulla che potesse essere considerato come aver \"previsto\" l\\' accadimento del terremoto.', 'qas': [{'answers': [{'answer_start': 279, 'text': 'non esistono metodi comprovati'}], 'id': '56d674591c85041400947133', 'question': 'Che cosa credono molti geologi nella previsione dei terremoti?'}, {'answers': [{'answer_start': 317, 'text': 'nessuna notifica di previsione'}], 'id': '56d674591c85041400947135', 'question': 'Cosa è stato ricevuto prima del terremoto?'}]}, {'context': \"Nel 2002, il geologo cinese Chen Xuezhong ha pubblicato uno studio di analisi del rischio sismico in cui è giunto alla conclusione che a partire dal 2003, l' attenzione dovrebbe essere prestata alla possibilità di un terremoto con una magnitudo superiore a 7,0 che si verifica nella regione del Sichuan. Ha basato il suo studio sulla correlazione statistica. Che il Sichuan è un' area sismicamente attiva è stata discussa per anni prima del terremoto, anche se pochi studi indicano una data e un' ora specifiche.\", 'qas': [{'answers': [{'answer_start': 0, 'text': 'Nel 2002'}], 'id': '56cec548aab44d1400b88a13', 'question': \"Quando è stata pubblicata l' analisi del rischio sismico?\"}, {'answers': [{'answer_start': 28, 'text': 'Chen Xuezhong'}], 'id': '56cec548aab44d1400b88a14', 'question': \"Chi ha pubblicato l' analisi del rischio sismico?\"}, {'answers': [{'answer_start': 28, 'text': 'Chen Xuezhong'}], 'id': '56d672d21c85041400947129', 'question': 'Chi ha pubblicato uno studio di analisi del rischio sismico?'}, {'answers': [{'answer_start': 4, 'text': '2002'}], 'id': '56d672d21c8504140094712a', 'question': 'In quale anno Chen Xuezhong ha pubblicato uno studio sul terremoto?'}]}, {'context': 'Il terremoto è stato il peggiore a colpire l\\' area del Sichuan in oltre 30 anni. A seguito del terremoto, esperti e il pubblico in generale hanno chiesto informazioni per sapere se il terremoto avrebbe potuto essere previsto in anticipo e se lo studio delle statistiche relative al terremoto avrebbe potuto portare a una migliore previsione dei terremoti in futuro. La predizione del terremoto non è ancora una scienza consolidata; non c\\' era consenso all\\' interno della comunità scientifica sul fatto che la \"previsione\" del terremoto sia possibile.', 'qas': [{'answers': [{'answer_start': 66, 'text': 'oltre 30 anni'}], 'id': '56cec5d1aab44d1400b88a23', 'question': 'Da quanto tempo si è verificato un terremoto di simile entità?'}, {'answers': [{'answer_start': 72, 'text': '30 anni'}], 'id': '56d6713f1c8504140094711f', 'question': \"Da quanto tempo da quando l' area del Sichuan ha subito un grave terremoto?\"}, {'answers': [{'answer_start': 258, 'text': 'statistiche'}], 'id': '56d6713f1c85041400947122', 'question': 'La gente voleva sapere se lo studio di quale matematica poteva produrre previsioni migliori?'}]}, {'context': 'Molte squadre di soccorso, tra cui quella del Taipei Fire Department di Taiwan, sono state segnalate pronte ad unirsi allo sforzo di salvataggio nel Sichuan già mercoledì. Tuttavia, la Croce Rossa Società della Cina ha detto che (il 13 maggio)\"è stato scomodo attualmente a causa del problema del traffico alle zone più colpite più vicino all\\' epicentro\". La Società della Croce Rossa Cinese ha anche dichiarato che le zone disastrate hanno bisogno di tende, forniture mediche, acqua potabile e cibo; tuttavia ha raccomandato di donare denaro invece di altri oggetti, in quanto non era stato possibile raggiungere strade completamente danneggiate o luoghi che sono stati bloccati da frane. Le frane minacciavano continuamente il progresso di un gruppo di ricerca e salvataggio di 80 uomini, ognuno dei quali trasportava circa 40 kg di materiale di soccorso, provenienti da una brigata motorizzata di fanteria sotto il comandante Yang Wenyao, mentre cercavano di raggiungere il villaggio etnicamente tibetano di Sier ad un\\' altezza di 4000 m sul livello del mare nella contea di Pingwu.', 'qas': [{'answers': [{'answer_start': 683, 'text': 'frane'}], 'id': '56d5db271c85041400946e42', 'question': 'Quale problema ha continuato ad impedire alle squadre di soccorso di raggiungere le zone colpite?'}]}, {'context': \"Le piogge e gli smottamenti persistenti nella contea di Wenchuan e nella zona vicina hanno gravemente influenzato gli sforzi di salvataggio. All' inizio delle operazioni di soccorso, il 12 maggio, sono stati impiegati 20 elicotteri per la fornitura di cibo, acqua e aiuti d' emergenza, nonché per l' evacuazione dei feriti e la ricognizione delle aree colpite dal terremoto. A partire dalle 17:37 CST del 13 maggio, un totale di oltre 15.600 soldati e riservisti della milizia della regione militare di Chengdu si erano uniti alla forza di soccorso nelle zone gravemente colpite. Un comandante ha riferito da Yingxiu Town, Wenchuan, che sono stati trovati circa 3.000 sopravvissuti, mentre lo stato degli altri abitanti (circa 9.000) è rimasto poco chiaro. I 1.300 soccorritori raggiunsero l' epicentro e 300 truppe pioniere raggiunsero la sede di Wenchuan a circa 23:30 CST. Entro le 12:17 CST, 14 maggio 2008, la comunicazione nella sede di Wenchuan è stata in parte ripresa. Il pomeriggio del 14 maggio, 15 operazioni speciali 15 truppe, insieme con le forniture di soccorso e attrezzature di comunicazione, paracadutati in inaccessibile Mao County, a nord-est di Wenchuan.\", 'qas': [{'answers': [{'answer_start': 218, 'text': '20'}], 'id': '56cec79caab44d1400b88a34', 'question': 'Quanti elicotteri sono stati impiegati?'}, {'answers': [{'answer_start': 435, 'text': '15.600'}], 'id': '56cec79caab44d1400b88a35', 'question': 'Quanti riservisti delle milizie si sono uniti agli sforzi di salvataggio?'}, {'answers': [{'answer_start': 656, 'text': 'circa 3.000'}], 'id': '56cec79caab44d1400b88a36', 'question': 'Quanti sopravvissuti sono stati trovati?'}, {'answers': [{'answer_start': 435, 'text': '15'}], 'id': '56cec79caab44d1400b88a37', 'question': 'Quante truppe paracadute nella contea di Mao?'}, {'answers': [{'answer_start': 218, 'text': '20'}], 'id': '56d5ecf21c85041400946e5b', 'question': 'Quanti elicotteri sono stati inviati per fornire aiuti alle zone colpite?'}, {'answers': [{'answer_start': 435, 'text': '15.600'}], 'id': '56d5ecf21c85041400946e5c', 'question': 'Entro il 13 maggio, quante truppe erano state aggiunte agli sforzi di salvataggio?'}, {'answers': [{'answer_start': 656, 'text': 'circa 3.000'}], 'id': '56d5ecf21c85041400946e5d', 'question': 'Come sono state segnalate le persone sopravvissute nella città di Yingxiu?'}, {'answers': [{'answer_start': 721, 'text': 'circa 9.000'}], 'id': '56d5ecf21c85041400946e5e', 'question': 'Quante persone a Yingxiu erano ancora sconosciute?'}]}, {'context': \"Il 15 maggio, il premier Wen Jiabao ha ordinato lo spiegamento di altri 90 elicotteri, di cui 60 forniti dal PLAAF e 30 forniti dall' industria dell' aviazione civile, portando così il numero totale di aeromobili impiegati nelle operazioni di soccorso dall' aviazione civile, dall' esercito e dall' aviazione civile a oltre 150, il che ha portato alla più grande operazione di non combattimento nella storia dell' Esercito popolare di liberazione.\", 'qas': [{'answers': [{'answer_start': 94, 'text': '60'}], 'id': '56cec801aab44d1400b88a3e', 'question': 'Quanti elicotteri sono stati forniti dal PLAAF?'}, {'answers': [{'answer_start': 117, 'text': '30'}], 'id': '56cec801aab44d1400b88a3f', 'question': \"Quanti elicotteri sarebbero stati forniti dall' industria dell' aviazione civile?\"}, {'answers': [{'answer_start': 318, 'text': 'oltre 150'}], 'id': '56cec801aab44d1400b88a40', 'question': \"Quanti aerei c' erano in totale?\"}, {'answers': [{'answer_start': 318, 'text': 'oltre 150'}], 'id': '56d60cd01c85041400946eea', 'question': \"Qual è il numero totale di aeromobili utilizzati nell' operazione di soccorso?\"}, {'answers': [{'answer_start': 94, 'text': '60'}], 'id': '56d60cd01c85041400946eec', 'question': 'Quanti elicotteri provenivano dal PLAAF?'}, {'answers': [{'answer_start': 134, 'text': \"industria dell' aviazione civile\"}], 'id': '56d60cd01c85041400946eed', 'question': 'Chi ha fornito gli altri 30 elicotteri?'}]}, {'context': \"Pechino ha accettato l' aiuto della Fondazione Tzu Chi di Taiwan alla fine del 13 maggio. Tzu Chi è stata la prima forza al di fuori della Repubblica Popolare Cinese a partecipare allo sforzo di salvataggio. La Cina ha dichiarato di voler accettare con gratitudine l' aiuto internazionale per far fronte al terremoto.\", 'qas': [{'answers': [{'answer_start': 36, 'text': 'Fondazione Tzu Chi'}], 'id': '56cec88baab44d1400b88a45', 'question': 'Quale Fondazione ha voluto aiutare Pechino?'}, {'answers': [{'answer_start': 58, 'text': 'Taiwan'}], 'id': '56cec88baab44d1400b88a46', 'question': \"Dov' era la fondazione?\"}, {'answers': [{'answer_start': 36, 'text': 'Fondazione Tzu Chi'}], 'id': '56d60ddf1c85041400946ef5', 'question': \"Qual è stato il primo gruppo di fuori della Cina a partecipare all' operazione di soccorso?\"}, {'answers': [{'answer_start': 268, 'text': 'aiuto internazionale'}], 'id': '56d60ddf1c85041400946ef6', 'question': 'Che cosa ha detto la Cina di accettare?'}]}, {'context': \"Un volo merci charter diretto è stato effettuato dalla China Airlines da Taiwan Taoyuan International Airport all' aeroporto internazionale di Chengdu Shuangliu, che ha inviato circa 100 tonnellate di forniture di soccorso donate dalla Fondazione Tzu Chi e dalla Croce Rossa di Taiwan alle zone colpite. È stata chiesta l' approvazione delle autorità cinesi della Cina continentale e il volo charter è partito da Taipei alle 17:00 CST, il 15 maggio e è arrivato a Chengdu entro le 20:30 CST. Una squadra di soccorso della Croce Rossa di Taiwan avrebbe dovuto partire da Taipei con un volo charter diretto di Mandarin Airlines verso Chengdu alle 15:00 CST del 16 maggio.\", 'qas': [{'answers': [{'answer_start': 55, 'text': 'China Airlines'}], 'id': '56cec8e2aab44d1400b88a55', 'question': 'Chi ha effettuato un volo cargo charter diretto?'}, {'answers': [{'answer_start': 439, 'text': '15 maggio'}], 'id': '56cec8e2aab44d1400b88a57', 'question': 'Quale data di partenza del volo cargo?'}, {'answers': [{'answer_start': 659, 'text': '16 maggio'}], 'id': '56cec8e2aab44d1400b88a58', 'question': 'Quando è partita una squadra di soccorso?'}, {'answers': [{'answer_start': 73, 'text': 'Taiwan Taoyuan International Airport'}], 'id': '56d613011c85041400946efd', 'question': 'Da quale aeroporto parte il volo charter?'}, {'answers': [{'answer_start': 143, 'text': 'Chengdu'}], 'id': '56d613011c85041400946efe', 'question': 'Dove è avvenuto il volo charter da Taiwan?'}, {'answers': [{'answer_start': 496, 'text': 'squadra di soccorso'}], 'id': '56d613011c85041400946eff', 'question': 'Che cosa ha lasciato il team della Croce Rossa a Taipei il 16 maggio Chengdu?'}]}, {'context': \"Il 16 maggio, i gruppi di soccorso provenienti da Corea del Sud, Giappone, Singapore, Russia e Taiwan sono arrivati per unirsi allo sforzo di salvataggio. Gli Stati Uniti hanno condiviso con le autorità cinesi alcune delle sue immagini satellitari delle zone colpite dal terremoto. Durante il fine settimana, gli Stati Uniti hanno inviato in Cina due forniture di trasporto dell' aeronautica militare C-17 degli Stati Uniti, tra cui tende e generatori. Xinhua ha riferito 135.000 truppe cinesi e medici sono stati coinvolti nello sforzo di salvataggio in 58 contee e città. immagini satellitari delle aree colpite dal terremoto.\", 'qas': [{'answers': [{'answer_start': 472, 'text': '135.000'}], 'id': '56cec9e1aab44d1400b88a63', 'question': 'Quante truppe cinesi sono state coinvolte negli sforzi di salvataggio?'}, {'answers': [{'answer_start': 3, 'text': '16 maggio'}], 'id': '56cec9e1aab44d1400b88a65', 'question': 'Quando sono arrivati in Cina gruppi provenienti dalla Corea del Sud, dal Giappone e da altri paesi?'}, {'answers': [{'answer_start': 227, 'text': 'immagini satellitari'}], 'id': '56d61a451c85041400946f10', 'question': 'Che cosa ha condiviso gli Stati Uniti con la Cina?'}, {'answers': [{'answer_start': 433, 'text': 'tende e generatori'}], 'id': '56d61a451c85041400946f11', 'question': \"Cosa è stato incluso nelle forniture dell' aeronautica militare C-17?\"}, {'answers': [{'answer_start': 472, 'text': '135.000'}], 'id': '56d61a451c85041400946f13', 'question': 'Quante truppe e medici cinesi sono stati coinvolti negli sforzi di soccorso?'}]}, {'context': \"Internet è stato ampiamente utilizzato per trasmettere informazioni a sostegno degli sforzi di salvataggio e recupero. Ad esempio, l' agenzia di stampa ufficiale Xinhua ha istituito un centro online di richiesta di soccorso per trovare gli angoli ciechi del disaster recovery. Dopo aver saputo che gli elicotteri di soccorso avevano avuto difficoltà ad atterrare nell' area dell' epicentro di Wenchuan, uno studente ha proposto un punto di atterraggio online ed è stato scelto come primo touchdown per gli elicotteri[non in citazione dato]. I volontari hanno anche creato diversi siti web per aiutare a memorizzare le informazioni di contatto per le vittime e gli sfollati. Il 31 maggio, un elicottero di salvataggio che trasportava sopravvissuti al terremoto e membri dell' equipaggio si è schiantato a causa della nebbia e delle turbolenze nella contea di Wenchuan. Nessuno è sopravvissuto.\", 'qas': [{'answers': [{'answer_start': 0, 'text': 'Internet'}], 'id': '56ceccc7aab44d1400b88a7d', 'question': 'Che cosa è stato ampiamente utilizzato per trasmettere informazioni a sostegno degli sforzi di salvataggio e recupero?'}, {'answers': [{'answer_start': 228, 'text': 'trovare gli angoli ciechi del disaster recovery'}], 'id': '56ceccc7aab44d1400b88a7f', 'question': 'Qual era lo scopo di questo centro di richiesta di soccorso online?'}, {'answers': [{'answer_start': 393, 'text': 'Wenchuan'}], 'id': '56ceccc7aab44d1400b88a80', 'question': 'Dove hanno avuto difficoltà di atterraggio gli elicotteri di soccorso?'}, {'answers': [{'answer_start': 0, 'text': 'Internet'}], 'id': '56d61c4e1c85041400946f1a', 'question': 'Che cosa è stato utilizzato come aiuto alle comunicazioni negli sforzi di soccorso?'}, {'answers': [{'answer_start': 403, 'text': 'uno studente'}], 'id': '56d61c4e1c85041400946f1c', 'question': \"Quale persona ha suggerito un atterraggio per elicotteri vicino all' epicentro?\"}, {'answers': [{'answer_start': 618, 'text': 'informazioni di contatto'}], 'id': '56d61c4e1c85041400946f1d', 'question': 'Che tipo di informazioni sono state create sui siti web da archiviare?'}]}, {'context': \"Il 12 maggio 2009, la Cina ha celebrato il primo anniversario del terremoto con un momento di silenzio mentre le persone in tutta la nazione ricordavano i morti. Il governo ha anche aperto l' accesso alle rovine sigillate della sede della contea del Beichuan per tre giorni, dopo di che sarà congelato in tempo come un museo reliquia terremoto di stato, per ricordare alla gente del disastro terribile. Ci sono stati anche diversi concerti in tutto il paese per raccogliere fondi per i sopravvissuti al terremoto.\", 'qas': [{'answers': [{'answer_start': 80, 'text': 'un momento di silenzio'}], 'id': '56cecd53aab44d1400b88a88', 'question': \"Cosa è stato fatto per l' anniversario?\"}, {'answers': [{'answer_start': 263, 'text': 'tre giorni'}], 'id': '56cecd53aab44d1400b88a8a', 'question': 'Per quanto tempo è stato aperto?'}, {'answers': [{'answer_start': 80, 'text': 'un momento di silenzio'}], 'id': '56d66b221c85041400947103', 'question': 'Che cosa ha fatto la Cina per celebrare il primo anniversario del terremoto?'}, {'answers': [{'answer_start': 423, 'text': 'diversi concerti'}], 'id': '56d66b221c85041400947105', 'question': 'Che tipo di evento è stato dato per raccogliere fondi per i sopravvissuti al terremoto?'}]}, {'context': 'A seguito del terremoto, le donazioni sono state effettuate da persone provenienti da tutta la Cina continentale, con cabine allestite nelle scuole, presso le banche e nelle vicinanze di distributori di benzina. La gente ha anche donato sangue, con conseguente secondo Xinhua lungo line-up Xinhua nella maggior parte delle principali città cinesi. Molti donato attraverso messaggi di testo sui telefoni cellulari per i conti istituiti da China Unicom e China Mobile 16 maggio, il governo cinese aveva stanziato un totale di 772 milioni di dollari per il terremoto di soccorso finora, in forte aumento da $ 159 milioni di dollari dal 14 maggio sangue.', 'qas': [{'answers': [{'answer_start': 230, 'text': 'donato sangue'}], 'id': '56d666041c850414009470f1', 'question': 'Che cosa ha causato le lunghe linee nella maggior parte delle grandi città?'}, {'answers': [{'answer_start': 118, 'text': 'cabine'}], 'id': '56d666041c850414009470f2', 'question': 'Quali sono state le premesse cinesi per raccogliere donazioni?'}, {'answers': [{'answer_start': 524, 'text': '772 milioni di dollari'}], 'id': '56d666041c850414009470f4', 'question': 'Quanto aveva designato il governo cinese entro il 16 maggio?'}]}, {'context': 'La Società Croce Rossa della Cina ha volato 557 tende e 2.500 trapunte del valore di 788.000 yuan (113.000 dollari USA) nella contea di Wenchuan. La Fondazione Amity ha già iniziato i lavori di soccorso nella regione e ha stanziato 143.000 USD per i soccorsi in caso di catastrofe. Il ministero degli Affari civili del Sichuan ha dichiarato di aver fornito 30.000 tende per i senzatetto rimasti senza tetto.', 'qas': [{'answers': [{'answer_start': 44, 'text': '557'}], 'id': '56cece5caab44d1400b88a9b', 'question': 'Quante tende sono state volate nella regione?'}, {'answers': [{'answer_start': 56, 'text': '2.500'}], 'id': '56cece5caab44d1400b88a9c', 'question': 'Quanti trapunte sono state volate nella regione?'}, {'answers': [{'answer_start': 85, 'text': '788.000 yuan'}], 'id': '56cece5caab44d1400b88a9d', 'question': 'Quanto valevano entrambe le forniture?'}, {'answers': [{'answer_start': 357, 'text': '30.000'}], 'id': '56cece5caab44d1400b88a9f', 'question': 'Quante tende ha fornito il ministero del Sichuan ai senzatetto?'}, {'answers': [{'answer_start': 357, 'text': '30.000'}], 'id': '56d663b11c850414009470e5', 'question': 'Quante tende ha fornito il Ministero degli Affari del Sichuan?'}, {'answers': [{'answer_start': 146, 'text': 'La Fondazione Amity'}], 'id': '56d663b11c850414009470e7', 'question': 'Quali fondamenta avevano già iniziato i lavori di soccorso nella zona?'}]}, {'context': 'Il governo centrale stima che oltre 7.000 aule scolastiche non adeguatamente attrezzate siano crollate in seguito al terremoto. Da allora i cittadini cinesi hanno inventato una frase di cattura:\"tofu-dregs schoolhouses\" (Cinese:?????), per fingere sia la qualità che la quantità di queste costruzioni inferiori che hanno ucciso così tanti bambini in età scolare. A causa della politica del figlio unico, molte famiglie hanno perso l\\' unico figlio quando le scuole della regione sono crollate durante il terremoto. Di conseguenza, i funzionari provinciali e locali del Sichuan hanno abolito la restrizione per le famiglie il cui unico bambino è stato ucciso o gravemente ferito in seguito al disastro. I cosiddetti \"bambini illegali\" di età inferiore ai 18 anni possono essere registrati come sostituti legali dei loro fratelli morti; se il bambino morto fosse illegale, non si applicherebbero ulteriori sanzioni pecuniarie. Il rimborso non sarebbe tuttavia offerto per le ammende già riscosse.', 'qas': [{'answers': [{'answer_start': 36, 'text': '7.000'}], 'id': '56cecf68aab44d1400b88ab7', 'question': 'Quante aule scolastiche sono crollate nel terremoto?'}, {'answers': [{'answer_start': 195, 'text': 'tofu-dregs schoolhouses'}], 'id': '56cecf68aab44d1400b88ab8', 'question': \"Quale frase d' insieme è stata inventata a seguito del crollo delle scuole?\"}, {'answers': [{'answer_start': 195, 'text': 'tofu-dregs schoolhouses'}], 'id': '56d64a821c85041400947077', 'question': 'Che cosa ha iniziato la cittadinanza a chiamare questo tipo di scuole?'}]}, {'context': 'La sera del 18 maggio, il CCTV-1 ha ospitato un programma speciale di quattro ore chiamato The Giving of Love (cinese semplificato:???; cinese tradizionale:????), ospitato da regolari del Gala di Capodanno CCTV e dall\\' ancora di copertura 24 ore su 24 Bai Yansong. Vi hanno partecipato una vasta gamma di personaggi dello spettacolo, letterari, commerciali e politici provenienti dalla Cina continentale, Hong Kong, Singapore e Taiwan. Le donazioni della serata sono ammontate a 1,5 miliardi di yuan cinese (~208 milioni di dollari USA). Tra le donazioni, la TVCC ha dato il maggior contributo aziendale a ¥50 milioni. Quasi contemporaneamente a Taiwan, un programma tematico simile era in onda ospitato dal presidente in carica Ma Ying-jeou. A giugno, l\\' attore di Hong Kong Jackie Chan, che ha donato 1,57 milioni di dollari alle vittime, ha realizzato un video musicale insieme ad altri artisti intitolato \"Promise\"; la canzone è stata composta da Andy Lau. L\\' Artistes 512 Fund Raising Campaign, una maratona di raccolta fondi della durata di 8 ore, si è tenuta il 1° giugno a Hong Kong, alla quale hanno partecipato circa 200 musicisti e celebrità della Sinosfera. A Singapore, MediaCorp Channel 8 ha ospitato un programma dal vivo?? programma di quattro ore chiamato Il dono dell\\' amore.', 'qas': [{'answers': [{'answer_start': 252, 'text': 'Bai Yansong'}], 'id': '56cecff4aab44d1400b88abe', 'question': 'Quanto erano grandi le donazioni del programma?'}, {'answers': [{'answer_start': 803, 'text': '1,57 milioni di dollari'}], 'id': '56cecff4aab44d1400b88abf', 'question': 'Quanto ha donato Jackie Chan per sostenere?'}, {'answers': [{'answer_start': 1273, 'text': \"Il dono dell' amore\"}], 'id': '56cecff4aab44d1400b88ac1', 'question': 'Qual era il programma che CCTV-1 ha ospitato?'}, {'answers': [{'answer_start': 91, 'text': 'The Giving of Love'}], 'id': '56d6477c1c85041400947065', 'question': 'Quali sono state le donazioni totali per il programma?'}, {'answers': [{'answer_start': 26, 'text': 'CCTV'}], 'id': '56d6477c1c85041400947066', 'question': 'Quale azienda ha dato il massimo?'}, {'answers': [{'answer_start': 803, 'text': '1,57 milioni'}], 'id': '56d6477c1c85041400947067', 'question': \"Quanto ha donato l' attore Jackie Chan?\"}]}, {'context': 'Gli sforzi di salvataggio compiuti dal governo cinese sono stati elogiati dai media occidentali, soprattutto in confronto al blocco degli aiuti stranieri da parte del Myanmar durante il ciclone Nargis, nonché ai precedenti risultati della Cina durante il terremoto di Tangshan del 1976. L\\' apertura della Cina durante la copertura mediatica del terremoto del Sichuan ha portato un professore presso l\\' Università di Pechino a dire:\"Questa è la prima volta[che] i media cinesi sono stati all\\' altezza degli standard internazionali\". Los Angeles Times ha elogiato la copertura mediatica della Cina del terremoto di essere \"democratico\".', 'qas': [{'answers': [{'answer_start': 138, 'text': 'aiuti stranieri'}], 'id': '56d61fc11c85041400946f24', 'question': 'Che cosa ha fatto blocco Myanmar dopo Cyclone Nargis?'}, {'answers': [{'answer_start': 532, 'text': 'Los Angeles Times'}], 'id': '56d61fc11c85041400946f26', 'question': 'Chi ha elogiato la copertura mediatica cinese come democratica?'}]}, {'context': 'A causa del terremoto di magnitudo 7,9 e delle numerose forti scosse di assestamento, molti fiumi sono stati bloccati da grandi frane, che hanno portato alla formazione di \"laghi di sisma\" dietro le ostruzioni; queste enormi quantità d\\' acqua si stavano accumulando ad un ritmo molto elevato dietro le dighe naturali di frane e si temeva che le ostruzioni sarebbero infine crollate sotto il peso della massa d\\' acqua sempre crescente, potenzialmente mettendo a repentaglio la vita di milioni di persone. Al 27 maggio 2008,34 laghi si erano formati a causa del terremoto che bloccava i detriti e arginava i fiumi, e si stimava che 28 di essi fossero ancora potenzialmente pericolosi per la popolazione locale. Gli interi villaggi hanno dovuto essere evacuati a causa delle conseguenti inondazioni.', 'qas': [{'answers': [{'answer_start': 522, 'text': '34'}], 'id': '56cedd7daab44d1400b88b50', 'question': 'Quanti laghi di tremito si sono formati?'}, {'answers': [{'answer_start': 630, 'text': '28'}], 'id': '56cedd7daab44d1400b88b51', 'question': 'Quanti laghi costituivano un pericolo per le persone?'}, {'answers': [{'answer_start': 121, 'text': 'grandi frane'}], 'id': '56d624261c85041400946f2d', 'question': 'Che cosa ha bloccato molti dei fiumi della zona?'}, {'answers': [{'answer_start': 522, 'text': '34'}], 'id': '56d624261c85041400946f2f', 'question': 'A partire dal 27 maggio quanti laghi sismici si erano formati dietro i detriti di frane?'}, {'answers': [{'answer_start': 713, 'text': 'interi villaggi'}], 'id': '56d624261c85041400946f30', 'question': 'Che cosa doveva essere evacuato a causa di un potenziale allagamento?'}]}, {'context': \"Il più precario di questi ciarlatani era quello che si trovava nel terreno estremamente difficile del Monte Tangjia nella contea di Beichuan, Sichuan, accessibile solo a piedi o in aereo; un elicottero di sollevamento pesante Mi-26T appartenente alla China Flying Dragon Special Aviation Company è stato utilizzato per portare pesanti trattori movimento terra nella zona colpita. Questa operazione è stata accoppiata con il lavoro svolto da elicotteri PLAAF Mi-17 portando in corpi di ingegneria PLA, specialisti di esplosivi e altro personale per unire 1.200 soldati che sono arrivati sul posto a piedi. Cinque tonnellate di combustibile per azionare il macchinario sono state trasportate in aria fino al sito, dove è stata costruita una saracinesca per consentire lo scarico sicuro dell' acqua di strozzatura. A valle, più di 200.000 persone sono state evacuate dal Mianyang entro il 1 giugno in previsione dello scoppio della diga.\", 'qas': [{'answers': [{'answer_start': 102, 'text': 'Monte Tangjia nella contea di Beichuan, Sichuan'}], 'id': '56ceddf6aab44d1400b88b67', 'question': 'Dove si trovava il lago più precario?'}, {'answers': [{'answer_start': 335, 'text': 'trattori'}], 'id': '56ceddf6aab44d1400b88b69', 'question': 'Quali macchine sono state trasportate in aereo?'}, {'answers': [{'answer_start': 828, 'text': '200.000'}], 'id': '56ceddf6aab44d1400b88b6b', 'question': 'Quante persone sono state evacuate a valle?'}, {'answers': [{'answer_start': 912, 'text': 'lo scoppio della diga'}], 'id': '56d62b0f1c85041400946f5e', 'question': \"Qual è stata la paura che ha causato l' evacuazione di 200.000 persone dal Mianyang?\"}, {'answers': [{'answer_start': 102, 'text': 'Monte Tangjia'}], 'id': '56d62b0f1c85041400946f5f', 'question': 'Dove si trovava il peggio dei laghi sismici?'}, {'answers': [{'answer_start': 122, 'text': 'contea di Beichuan, Sichuan'}], 'id': '56d62b0f1c85041400946f60', 'question': 'Dove si trova il monte Tangjia?'}, {'answers': [{'answer_start': 554, 'text': '1.200'}], 'id': '56d62b0f1c85041400946f62', 'question': 'Quanti soldati hanno dovuto recarsi nella zona a piedi?'}]}, {'context': 'Il Consiglio di Stato ha dichiarato un periodo di tre giorni di lutto nazionale per le vittime del terremoto a partire dal 19 maggio 2008, la bandiera nazionale della RPC e le bandiere regionali di Hong Kong e Macao regioni amministrative speciali ha volato a metà albero. Era la prima volta che un periodo di lutto nazionale era stato dichiarato per qualcosa di diverso dalla morte di un leader statale, e molti lo hanno definito la più grande manifestazione di lutto dalla morte di Mao Zedong. Alle 14:28 CST 28 il 19 maggio 2008, una settimana dopo il terremoto, il pubblico cinese ha tenuto un momento di silenzio. La gente taceva per tre minuti mentre la difesa aerea, la polizia e le sirene antincendio, e le corna di veicoli, navi e treni suonavano. Anche le auto e i camion sulle strade di Pechino si sono fermati. La gente spontaneamente scoppiò in allegria \"Zhongguo jiayou\"! (Vai, Cina!) e \"Sichuan jiayou\" (Let\\'s go, Sichuan!).', 'qas': [{'answers': [{'answer_start': 547, 'text': 'dopo'}], 'id': '56cede78aab44d1400b88b7c', 'question': 'Chi ha dichiarato il lutto?'}, {'answers': [{'answer_start': 64, 'text': 'lutto nazionale'}], 'id': '56d62ce51c85041400946f7a', 'question': 'Che cosa ha dichiarato il Consiglio di Stato?'}, {'answers': [{'answer_start': 484, 'text': 'Mao Zedong'}], 'id': '56d62ce51c85041400946f7b', 'question': 'Questa è stata la più grande manifestazione di lutto dalla morte di chi?'}, {'answers': [{'answer_start': 123, 'text': '19 maggio 2008'}], 'id': '56d62ce51c85041400946f7c', 'question': 'Quando i cinesi hanno avuto un momento di silenzio?'}, {'answers': [{'answer_start': 39, 'text': 'periodo di tre giorni'}], 'id': '56d62ce51c85041400946f7e', 'question': 'Quanto tempo è durato il lutto nazionale per le vittime del terremoto?'}]}, {'context': \"Il Comitato Organizzatore di Ningbo del comitato organizzatore della torcia olimpica di Pechino ha annunciato che la staffetta, prevista per svolgersi a Ningbo durante la mattinata nazionale, sarebbe stata sospesa per la durata del periodo di lutto. Il percorso della torcia attraverso il paese è stato ridimensionato, e c' è stato un minuto di silenzio quando la tappa successiva ha iniziato nella città di Ruijin, Jiangxi il mercoledì dopo il terremoto.\", 'qas': [{'answers': [{'answer_start': 29, 'text': 'Ningbo'}], 'id': '56cedecdaab44d1400b88b8e', 'question': \"Dov' era previsto il relè?\"}, {'answers': [{'answer_start': 151, 'text': 'a Ningbo'}], 'id': '56d62e501c85041400946f95', 'question': 'Dove doveva avvenire il relè della torcia?'}, {'answers': [{'answer_start': 250, 'text': 'Il percorso'}], 'id': '56d62e501c85041400946f96', 'question': 'Quale parte del relè ha cambiato?'}, {'answers': [{'answer_start': 408, 'text': 'Ruijin, Jiangxi'}], 'id': '56d62e501c85041400946f97', 'question': \"Dove c' era un minuto di silenzio durante la staffetta?\"}]}, {'context': 'Molti siti web hanno convertito la loro home page in bianco e nero; Sina. com e Sohu, i principali portali internet, hanno limitato le loro homepage alle notizie e rimosso tutte le pubblicità. I siti web cinesi di condivisione video Youku e Tudou hanno mostrato uno sfondo nero e collocato più video che mostrano filmati di terremoto e reportage di notizie. La versione cinese di MSN, cn. msn. com, mostrava anche annunci pubblicitari sul terremoto e gli sforzi di soccorso.', 'qas': []}, {'context': \"Ye Zhiping, il preside della scuola media di Sangzao a Sangzao, una delle più grandi della Contea di An, ha ricevuto il merito di un' azione proattiva che ha risparmiato la vita a tutti i 2.323 alunni presenti quando si è verificato il terremoto. Nel corso di un triennio che si è concluso nel 2007, ha seguito un' importante revisione della sua scuola. Durante quel periodo ha ottenuto più di 400.000 yuan (US$60.000) dal dipartimento di istruzione contea, denaro usato per ampliare e rafforzare i pilastri di cemento e la ringhiera balcone di tutti e quattro i piani della sua scuola, così come fissare i pavimenti in cemento.\", 'qas': [{'answers': [{'answer_start': 0, 'text': 'Ye Zhiping'}], 'id': '56cee003aab44d1400b88bb1', 'question': 'Chi era il preside della scuola media di Sangzao?'}, {'answers': [{'answer_start': 188, 'text': '2.323'}], 'id': '56cee003aab44d1400b88bb3', 'question': 'Quanti studenti hanno frequentato la scuola?'}, {'answers': [{'answer_start': 394, 'text': '400.000 yuan'}], 'id': '56cee003aab44d1400b88bb5', 'question': 'Quanto denaro è stato utilizzato per rafforzare la costruzione della scuola?'}, {'answers': [{'answer_start': 0, 'text': 'Ye Zhiping'}], 'id': '56d64f7c1c85041400947095', 'question': 'Quale direttore scolastico ha rafforzato la sua scuola?'}, {'answers': [{'answer_start': 45, 'text': 'Sangzao'}], 'id': '56d64f7c1c85041400947097', 'question': \"Dov' è la scuola media di Sangzao?\"}]}, {'context': \"Tuttavia, Reuters ha riferito nel mese di giugno che, ad oggi, i pubblici ministeri cinesi hanno aderito a un' indagine ufficiale in dieci scuole crollato durante il devastante terremoto di maggio per ottenere materiale di prima mano della qualità delle costruzioni nelle scuole crollato, avviare indagini preliminari e prepararsi per eventuali indagini sulla criminalità professionale. È stato inoltre riferito che, dopo il terremoto del mese scorso, si sarebbero dovuti effettuare controlli di sicurezza nelle scuole di tutta la Cina.\", 'qas': [{'answers': [{'answer_start': 483, 'text': 'controlli di sicurezza'}], 'id': '56cee069aab44d1400b88bbd', 'question': 'Cosa doveva essere fatto nelle scuole dopo il sisma?'}, {'answers': [{'answer_start': 360, 'text': 'criminalità professionale'}], 'id': '56d658061c850414009470a8', 'question': 'Quali indagini stanno conducendo i pubblici ministeri?'}, {'answers': [{'answer_start': 512, 'text': 'scuole di tutta la Cina'}], 'id': '56d658061c850414009470a9', 'question': 'Dove saranno i cinesi ad effettuare i controlli di sicurezza?'}, {'answers': [{'answer_start': 10, 'text': 'Reuters'}], 'id': '56d658061c850414009470aa', 'question': 'Quale gruppo ha riferito che i pubblici ministeri cinesi sono stati coinvolti nelle indagini sui crolli della scuola?'}]}, {'context': 'Il New York Times ha riferito che \"funzionari di governo a Pechino e Sichuan hanno detto che stanno indagando sui crolli. Riconoscendo la debolezza dei codici edilizi nelle campagne, il 27 maggio la Commissione nazionale per lo sviluppo e la riforma ha dichiarato di aver elaborato un emendamento per migliorare gli standard di costruzione delle scuole elementari e medie nelle zone rurali. Gli esperti stanno rivedendo il progetto, ha detto la commissione. Per limitare le proteste, i funzionari hanno spinto i genitori a firmare un documento che vietava loro di organizzare proteste in cambio di denaro, ma alcuni che si rifiutavano di firmare sono stati minacciati. Gli importi dei pagamenti variavano da scuola a scuola, ma erano all\\' incirca gli stessi. Ad Hanwang, ai genitori è stato offerto un pacchetto del valore di 8.800 USD in contanti e una pensione per genitore di quasi 5.600 USD.', 'qas': [{'answers': [{'answer_start': 462, 'text': 'limitare le proteste'}], 'id': '56d65a4b1c850414009470b0', 'question': 'Cosa stanno cercando di fare i funzionari per protestare i genitori?'}, {'answers': [{'answer_start': 598, 'text': 'denaro'}], 'id': '56d65a4b1c850414009470b1', 'question': 'Quali sono i funzionari che offrono ai genitori in cambio di proteste?'}]}, {'context': 'Oltre ai genitori, Liu Shaokun (???), un insegnante di scuola del Sichuan, è stato arrestato il 25 giugno 2008 per \"diffondere voci e distruggere l\\' ordine sociale\" sul terremoto del Sichuan. La famiglia di Liu è stato poi detto che egli è stato indagato su sospetto del reato di istigazione alla sovversione. Liu aveva viaggiato per lo Shifang, scattato foto di edifici scolastici crollati, e metterli online. Aveva anche espresso la sua rabbia per \"gli edifici scadenti tofu-dregs\" (?????) in un\\' intervista ai media. Gli è stato ordinato di servire un anno di rieducazione attraverso il lavoro (RTL). Secondo l\\' organizzazione per i diritti umani in Cina, Liu è stato rilasciato per scontare la sua condanna RTL al di fuori del campo di lavoro.', 'qas': [{'answers': [{'answer_start': 19, 'text': 'Liu Shaokun'}], 'id': '56cee14aaab44d1400b88bcb', 'question': 'Chi era un insegnante di scuola del Sichuan?'}, {'answers': [{'answer_start': 271, 'text': 'reato di istigazione alla sovversione'}], 'id': '56d65c671c850414009470ba', 'question': 'Perché è stato indagato?'}, {'answers': [{'answer_start': 394, 'text': 'metterli online'}], 'id': '56d65c671c850414009470bb', 'question': 'Che cosa ha fatto Liu Shankun con le foto che ha scattato delle scuole crollate?'}, {'answers': [{'answer_start': 492, 'text': \"in un' intervista ai media\"}], 'id': '56d65c671c850414009470bc', 'question': 'Dove ha definito gli edifici scolastici scadenti?'}, {'answers': [{'answer_start': 552, 'text': 'un anno di rieducazione'}], 'id': '56d65c671c850414009470bd', 'question': 'Qual era la sua punizione assegnata?'}]}, {'context': 'Nel gennaio 2010, il giornale inglese con sede a Hong Kong The Standard ha riferito che lo scrittore Tan Zuoren ha tentato di documentare la costruzione scadente che potrebbe aver portato a massicce vittime nelle scuole, è stato condannato in prigione apparentemente per la sua scrittura di un articolo nel 2007 a sostegno del movimento pro-democrazia nel 1989.', 'qas': [{'answers': [{'answer_start': 303, 'text': 'nel 2007'}], 'id': '56cee1e4aab44d1400b88be0', 'question': 'Quando è avvenuta la condanna?'}, {'answers': [{'answer_start': 4, 'text': 'gennaio 2010'}], 'id': '56cee1e4aab44d1400b88be1', 'question': \"Quando è stato pubblicato l' articolo sul caso?\"}]}, {'context': \"A causa della magnitudo del terremoto e dell' attenzione mediatica sulla Cina, le nazioni e le organizzazioni straniere hanno risposto immediatamente al disastro offrendo condoglianze e assistenza. Il 14 maggio, l' UNICEF ha riferito che la Cina ha chiesto formalmente il sostegno della comunità internazionale per rispondere ai bisogni delle famiglie colpite.\", 'qas': [{'answers': [{'answer_start': 234, 'text': 'che la Cina ha chiesto formalmente il sostegno della comunità internazionale'}], 'id': '56cee23caab44d1400b88be6', 'question': \"Che cosa ha riferito l' UNICEF?\"}, {'answers': [{'answer_start': 171, 'text': 'condoglianze e assistenza'}], 'id': '56d660e91c850414009470d3', 'question': 'Che cosa hanno offerto alla Cina le nazioni straniere a causa della gravità del terremoto?'}, {'answers': [{'answer_start': 201, 'text': '14 maggio'}], 'id': '56d660e91c850414009470d4', 'question': 'Quando ha chiesto formalmente aiuto alla comunità internazionale?'}, {'answers': [{'answer_start': 215, 'text': 'UNICEF'}], 'id': '56d660e91c850414009470d5', 'question': 'Quale organizzazione ha riferito che la Cina ha chiesto aiuto?'}]}, {'context': \"Entro il 14 maggio, il Ministero degli Affari civili ha dichiarato che 10,7 miliardi di yuan (circa 1,5 miliardi di dollari) era stato donato dal pubblico cinese. Houston Rockets centro Yao Ming, una delle icone sportive più popolari del paese, ha dato $214.000 e $71.000 alla Società Croce Rossa della Cina. L' associazione ha inoltre raccolto un totale di 26 milioni di dollari in donazioni finora raccolte. Anche altre multinazionali situate in Cina hanno annunciato ingenti donazioni.\", 'qas': [{'answers': [{'answer_start': 358, 'text': '26 milioni di dollari'}], 'id': '56cee294aab44d1400b88bed', 'question': 'Quanto ha raccolto la Croce Rossa in donazioni?'}, {'answers': [{'answer_start': 71, 'text': '10,7 miliardi di yuan'}], 'id': '56d6622d1c850414009470db', 'question': 'Quanto denaro era stato donato entro il 14 maggio?'}, {'answers': [{'answer_start': 186, 'text': 'Yao Ming'}], 'id': '56d6622d1c850414009470dd', 'question': 'Quale famoso giocatore di basket ha fatto due grandi donazioni alla crisi?'}, {'answers': [{'answer_start': 358, 'text': '26 milioni'}], 'id': '56d6622d1c850414009470de', 'question': 'Quanto ha raccolto la Società della Croce Rossa?'}]}, {'context': 'Francis Marcus della Federazione Internazionale della Croce Rossa ha elogiato lo sforzo cinese di salvataggio come \"veloce e molto efficiente\" a Pechino martedì. Ma ha aggiunto che la portata del disastro era tale che \"non possiamo aspettarci che il governo possa fare tutto e gestire ogni aspetto delle necessità\". L\\' economista ha osservato che la Cina ha reagito al disastro \"rapidamente e con un\\' insolita apertura\", contrastandola con la risposta segreta della Birmania al ciclone Nargis, che ha devastato il paese 10 giorni prima del terremoto.', 'qas': [{'answers': [{'answer_start': 410, 'text': 'apertura'}], 'id': '56d614dd1c85041400946f07', 'question': 'Quale atteggiamento atipico ha mostrato la Cina?'}, {'answers': [{'answer_start': 520, 'text': '10 giorni'}], 'id': '56d614dd1c85041400946f09', 'question': 'Quanto tempo prima del terremoto il ciclone Nargis colpì la Birmania?'}, {'answers': [{'answer_start': 21, 'text': 'Federazione Internazionale della Croce Rossa'}], 'id': '56d614dd1c85041400946f0a', 'question': 'Quale organizzazione ha rappresentato Francesco Marco?'}]}, {'context': 'Tutte le emittenti televisive della Cina continentale (insieme ad alcune stazioni di Hong Kong e delle comunità espatriate) hanno cancellato tutti i programmi programmati regolarmente, hanno mostrato il loro logo in scala di grigi e hanno sostituito i programmi cancellati con filmati dal vivo del CCTV-1 per più giorni dopo il terremoto. Anche i canali televisivi a pagamento (come il canale V) sono stati sospesi.', 'qas': [{'answers': [{'answer_start': 298, 'text': 'CCTV-1'}], 'id': '56d646091c8504140094705e', 'question': 'Qual è stata la fonte dei feed live?'}]}, {'context': \"Sebbene il governo cinese sia stato inizialmente elogiato per la sua risposta al terremoto (soprattutto rispetto al blocco degli aiuti da parte della giunta militare di governo del Myanmar durante il ciclone Nargis), ha poi visto un' erosione della fiducia nello scandalo della costruzione scolastica.\", 'qas': [{'answers': [{'answer_start': 181, 'text': 'Myanmar'}], 'id': '56d6488e1c8504140094706f', 'question': 'Quale governo ha bloccato gli aiuti dopo il ciclone Nargis?'}, {'answers': [{'answer_start': 263, 'text': 'scandalo della costruzione scolastica'}], 'id': '56d6488e1c85041400947070', 'question': \"Su quale scandalo ha perso nell' opinione pubblica il governo cinese?\"}, {'answers': [{'answer_start': 69, 'text': 'risposta al terremoto'}], 'id': '56d6488e1c85041400947071', 'question': 'A cosa è stato lodato per la prima volta il governo cinese?'}]}, {'context': \"Il 29 maggio 2008, i funzionari governativi hanno iniziato a ispezionare le rovine di migliaia di scuole crollate, alla ricerca di indizi sul perché si sono sgretolate. Migliaia di genitori in tutta la provincia hanno accusato funzionari locali e costruttori di tagliare angoli nella costruzione della scuola, citando che dopo il terremoto altri edifici vicini sono stati poco danneggiati. All' indomani del terremoto, molti governi locali hanno promesso di indagare formalmente sui crolli della scuola, ma a partire dal 17 luglio 2008 in tutto il Sichuan, i genitori di bambini perduti nelle scuole crollate si sono lamentati di non aver ancora ricevuto alcuna segnalazione. Funzionari locali li ha esortati a non protestare, ma i genitori hanno dimostrato e chiesto un' indagine. Inoltre, i censori hanno scoraggiato la pubblicazione sui media di storie di scuole costruite in modo inadeguato e vi è stato un incidente in cui la polizia ha allontanato i manifestanti.\", 'qas': []}, {'context': 'Il AP ha riferito che \"I media controllati dallo Stato ha ampiamente ignorato la questione, apparentemente sotto le istruzioni dell\\' ufficio di propaganda. Genitori e volontari che hanno interrogato le autorità sono stati detenuti e minacciati.', 'qas': [{'answers': [{'answer_start': 25, 'text': 'media controllati dallo Stato'}], 'id': '56d650911c8504140094709f', 'question': 'Chi ha ignorato la questione della scuola?'}, {'answers': [{'answer_start': 0, 'text': 'Il AP'}], 'id': '56d650911c850414009470a2', 'question': 'Quale fonte mediatica ha riferito che ciò accade?'}]}, {'context': 'Il 15 maggio 2008 Geoffery York del Globeandmail. com ha riferito che gli edifici di costruzione scadente sono comunemente chiamati \"edifici tofu\" perché i costruttori tagliano gli angoli sostituendo barre d\\' acciaio con fili di ferro sottili per il rinforzo del calcestruzzo, utilizzando cemento di qualità inferiore, se ce ne sono, e utilizzando meno mattoni di quanto dovrebbero.', 'qas': []}, {'context': \"Rimangono tuttavia ancora delle domande, in quanto alcuni funzionari di governo corrotti non sono ancora stati consegnati alla giustizia, mentre le numerose famiglie che hanno perso l' unico figlio, cercano ancora di ottenere un risarcimento e di rendere giustizia a quanto era accaduto. Secondo il Times, molti genitori sono stati avvertiti dal governo di non mettere in scena una protesta sotto la minaccia dell' arresto.\", 'qas': []}]}\n"
     ]
    }
   ],
   "source": [
    "print(\"Dataset Meta data: \", squad_it_dataset)\n",
    "print(\"Sample data: \", squad_it_dataset[\"train\"][0])"
   ]
  },
  {
   "cell_type": "code",
   "execution_count": 3,
   "metadata": {},
   "outputs": [
    {
     "data": {
      "text/plain": [
       "DatasetDict({\n",
       "    train: Dataset({\n",
       "        features: ['title', 'paragraphs'],\n",
       "        num_rows: 442\n",
       "    })\n",
       "    test: Dataset({\n",
       "        features: ['title', 'paragraphs'],\n",
       "        num_rows: 48\n",
       "    })\n",
       "})"
      ]
     },
     "execution_count": 3,
     "metadata": {},
     "output_type": "execute_result"
    }
   ],
   "source": [
    "# Loading train and test data at the same time\n",
    "data_files = {\"train\": \"data/squad-it-master/SQuAD_it-train.json\", \"test\": \"data/squad-it-master/SQuAD_it-test.json\"}\n",
    "squad_it_dataset = load_dataset(\"json\", data_files=data_files, field=\"data\")\n",
    "squad_it_dataset"
   ]
  },
  {
   "cell_type": "markdown",
   "metadata": {},
   "source": [
    "### Loading Remote Dataset"
   ]
  },
  {
   "cell_type": "code",
   "execution_count": 4,
   "metadata": {},
   "outputs": [],
   "source": [
    "# Note that hugging face can work on zip/compressed files directly\n",
    "url = \"https://github.com/crux82/squad-it/raw/master/\"\n",
    "data_files = {\n",
    "    \"train\": url + \"SQuAD_it-train.json.gz\",\n",
    "    \"test\": url + \"SQuAD_it-test.json.gz\",\n",
    "}\n",
    "squad_it_dataset = load_dataset(\"json\", data_files=data_files, field=\"data\")"
   ]
  },
  {
   "cell_type": "code",
   "execution_count": 5,
   "metadata": {},
   "outputs": [],
   "source": [
    "\n",
    "from datasets import load_dataset\n",
    "\n",
    "data_files = {\"train\": \"data/drugLibTest/drugLibTrain_raw.tsv\", \"test\": \"data/drugLibTest/drugLibTest_raw.tsv\"}\n",
    "# \\t is the tab character in Python\n",
    "drug_dataset = load_dataset(\"csv\", data_files=data_files, delimiter=\"\\t\")"
   ]
  },
  {
   "cell_type": "code",
   "execution_count": 6,
   "metadata": {},
   "outputs": [
    {
     "data": {
      "text/plain": [
       "{'Unnamed: 0': [63, 1542, 46],\n",
       " 'urlDrugName': ['flexeril', 'vagifem', 'aralen'],\n",
       " 'rating': [9, 10, 1],\n",
       " 'effectiveness': ['Considerably Effective',\n",
       "  'Highly Effective',\n",
       "  'Moderately Effective'],\n",
       " 'sideEffects': ['No Side Effects', 'No Side Effects', 'Severe Side Effects'],\n",
       " 'condition': ['muscle spasm',\n",
       "  'chronic urinary and yeast infections due to drynes',\n",
       "  'malaria'],\n",
       " 'benefitsReview': ['A muscle in my neck was pinching a nerve such that  if i turned my head or lay on that side my arm would instantly start to tingle and my hand fall asleep.  The Flexeril was effective in relaxing my muscles enough to make this merely a slight sensation within about twenty minutes, and over aperiod of one two two months the problem went away entirely.',\n",
       "  'Before the use of vagifem tablets, I had to endure a series of urinary infections after sometimes painful sexual intercourse.  I also had painful cracks in mucoal lining of vulva due to aging and dryness.  After beginning the use of this drug, I found that the ncreased mucous in vagina resolved both of these problems.',\n",
       "  'my fever was reduced but just for a while, as i threw up almost every 30 minutes after taking the medication and and until i emptied my stomach, the nausea was constant with every intake of the drug .'],\n",
       " 'sideEffectsReview': ['I do not feel that I experienced any truly negative side effects or have any adverse reactions to the Flexeril.  If I was tired, the muscle relaxing effect would end up making me sleepy, and if I took it right before going to sleep it might be a little harder to wake up in the morning. But, to me it seems like that just meant it was doing what it was intended to do.',\n",
       "  'diminished disposable income',\n",
       "  'compulsive vomiting,nausea,headaches and intense shivering'],\n",
       " 'commentsReview': ['I was prescribed Flexeril (10mg) for a muscle spasm in my neck that was pinching a nerve to my right arm.  I took the ten miligrams of Flexeril three times a day for about a month as needed as it was prescribed. Then, as the symptoms lessened to the point where they only bothered me on and off, I took the ten miligrams only once or twice a day depending on how my neck felt for about another month, and finally, during the next month, I only took it when I started to feel like the symptoms might be coming back, which was maybe once or twice a week.  Since then, I have not experienced any symptoms, and it has been over a year.',\n",
       "  'Insert 1 tablet vaginally once weekly',\n",
       "  '2 tabs to be taken 3times daily for the duration of the treatment alongside aspirin.']}"
      ]
     },
     "execution_count": 6,
     "metadata": {},
     "output_type": "execute_result"
    }
   ],
   "source": [
    "drug_sample = drug_dataset[\"train\"].shuffle(seed=42).select(range(1000))\n",
    "# Peek at the first few examples\n",
    "drug_sample[:3]"
   ]
  },
  {
   "cell_type": "code",
   "execution_count": 7,
   "metadata": {},
   "outputs": [],
   "source": [
    "# Check if Unnamed: 0 is a unique ID which most likely it will represent review ID\n",
    "for split in drug_dataset.keys():\n",
    "    assert len(drug_dataset[split]) == len(drug_dataset[split].unique(\"Unnamed: 0\"))"
   ]
  },
  {
   "cell_type": "code",
   "execution_count": 8,
   "metadata": {},
   "outputs": [
    {
     "data": {
      "text/plain": [
       "DatasetDict({\n",
       "    train: Dataset({\n",
       "        features: ['review_id', 'urlDrugName', 'rating', 'effectiveness', 'sideEffects', 'condition', 'benefitsReview', 'sideEffectsReview', 'commentsReview'],\n",
       "        num_rows: 3107\n",
       "    })\n",
       "    test: Dataset({\n",
       "        features: ['review_id', 'urlDrugName', 'rating', 'effectiveness', 'sideEffects', 'condition', 'benefitsReview', 'sideEffectsReview', 'commentsReview'],\n",
       "        num_rows: 1036\n",
       "    })\n",
       "})"
      ]
     },
     "execution_count": 8,
     "metadata": {},
     "output_type": "execute_result"
    }
   ],
   "source": [
    "# Rename the column to review_id\n",
    "drug_dataset = drug_dataset.rename_column(\n",
    "    original_column_name=\"Unnamed: 0\", new_column_name=\"review_id\"\n",
    ")\n",
    "drug_dataset"
   ]
  },
  {
   "cell_type": "code",
   "execution_count": 9,
   "metadata": {},
   "outputs": [
    {
     "data": {
      "text/plain": [
       "502"
      ]
     },
     "execution_count": 9,
     "metadata": {},
     "output_type": "execute_result"
    }
   ],
   "source": [
    "# checking number of unique values\n",
    "len(drug_dataset.unique(column=\"urlDrugName\")[\"train\"])"
   ]
  },
  {
   "cell_type": "code",
   "execution_count": 10,
   "metadata": {},
   "outputs": [],
   "source": [
    "def filter_nones(x):\n",
    "    return x[\"condition\"] is not None"
   ]
  },
  {
   "cell_type": "code",
   "execution_count": 11,
   "metadata": {},
   "outputs": [],
   "source": [
    "# Remove records with null condition\n",
    "drug_dataset = drug_dataset.filter(lambda x: x[\"condition\"] is not None)"
   ]
  },
  {
   "cell_type": "code",
   "execution_count": 12,
   "metadata": {},
   "outputs": [],
   "source": [
    "def lowercase_condition(example):\n",
    "    return {\"condition\": example[\"condition\"].lower()}\n",
    "\n",
    "\n",
    "drug_dataset = drug_dataset.map(lowercase_condition)"
   ]
  },
  {
   "cell_type": "code",
   "execution_count": 13,
   "metadata": {},
   "outputs": [
    {
     "data": {
      "text/plain": [
       "['management of congestive heart failure',\n",
       " 'birth prevention',\n",
       " 'menstrual cramps']"
      ]
     },
     "execution_count": 13,
     "metadata": {},
     "output_type": "execute_result"
    }
   ],
   "source": [
    "drug_dataset[\"train\"][\"condition\"][:3]"
   ]
  },
  {
   "cell_type": "code",
   "execution_count": 14,
   "metadata": {},
   "outputs": [
    {
     "data": {
      "application/vnd.jupyter.widget-view+json": {
       "model_id": "189cc20b52c74cc68dc0d7b1477e9955",
       "version_major": 2,
       "version_minor": 0
      },
      "text/plain": [
       "Filter:   0%|          | 0/3106 [00:00<?, ? examples/s]"
      ]
     },
     "metadata": {},
     "output_type": "display_data"
    },
    {
     "data": {
      "application/vnd.jupyter.widget-view+json": {
       "model_id": "328a8c9612c84ec9bbdbdc20193faf19",
       "version_major": 2,
       "version_minor": 0
      },
      "text/plain": [
       "Filter:   0%|          | 0/1036 [00:00<?, ? examples/s]"
      ]
     },
     "metadata": {},
     "output_type": "display_data"
    },
    {
     "data": {
      "application/vnd.jupyter.widget-view+json": {
       "model_id": "cbe360ae80fb4970b8551a428a1ed92a",
       "version_major": 2,
       "version_minor": 0
      },
      "text/plain": [
       "Map:   0%|          | 0/3094 [00:00<?, ? examples/s]"
      ]
     },
     "metadata": {},
     "output_type": "display_data"
    },
    {
     "data": {
      "application/vnd.jupyter.widget-view+json": {
       "model_id": "687924d0140343dd907a4a5fb9afc619",
       "version_major": 2,
       "version_minor": 0
      },
      "text/plain": [
       "Map:   0%|          | 0/1035 [00:00<?, ? examples/s]"
      ]
     },
     "metadata": {},
     "output_type": "display_data"
    },
    {
     "data": {
      "text/plain": [
       "{'review_id': 2202,\n",
       " 'urlDrugName': 'enalapril',\n",
       " 'rating': 4,\n",
       " 'effectiveness': 'Highly Effective',\n",
       " 'sideEffects': 'Mild Side Effects',\n",
       " 'condition': 'management of congestive heart failure',\n",
       " 'benefitsReview': 'slowed the progression of left ventricular dysfunction into overt heart failure \\r\\r\\nalone or with other agents in the managment of hypertension \\r\\r\\nmangagement of congestive heart failur',\n",
       " 'sideEffectsReview': 'cough, hypotension , proteinuria, impotence , renal failure , angina pectoris , tachycardia , eosinophilic pneumonitis, tastes disturbances , anusease anorecia , weakness fatigue insominca weakness',\n",
       " 'commentsReview': 'monitor blood pressure , weight and asses for resolution of fluid',\n",
       " 'review_length': 11}"
      ]
     },
     "execution_count": 14,
     "metadata": {},
     "output_type": "execute_result"
    }
   ],
   "source": [
    "def compute_review_length(example):\n",
    "    return {\"review_length\": len(example[\"commentsReview\"].split())}\n",
    "\n",
    "# Remove rows with no commentsReview and count the length of it\n",
    "drug_dataset = drug_dataset.filter(lambda x: x[\"commentsReview\"] is not None)\n",
    "drug_dataset = drug_dataset.map(compute_review_length)\n",
    "# Inspect the first training example\n",
    "drug_dataset[\"train\"][0]"
   ]
  },
  {
   "cell_type": "code",
   "execution_count": 15,
   "metadata": {},
   "outputs": [
    {
     "data": {
      "text/plain": [
       "{'review_id': [3201, 1843, 3814],\n",
       " 'urlDrugName': ['omnicef', 'yasmin', 'solodyn'],\n",
       " 'rating': [1, 10, 1],\n",
       " 'effectiveness': ['Marginally Effective', 'Highly Effective', 'Ineffective'],\n",
       " 'sideEffects': ['Severe Side Effects',\n",
       "  'No Side Effects',\n",
       "  'Severe Side Effects'],\n",
       " 'condition': ['sore throat ear infections', 'birth control', 'acne'],\n",
       " 'benefitsReview': [\"don't know yet back to pediatrician today\",\n",
       "  \"I've been on yasmin four years now, it works so great! I have no side effects, just nausea if I take two at a time and that is hardly ever.  But my acne completely went away and no pregnancy the whole time I've been on it! Would definently recommend to anybody.\",\n",
       "  \"I started this medicine to help my acne, but after a couple of weeks there was no improvement at all.  In fact, my skin was worse. I've taken other antibiotics in the past and they were much more effective at clearing up my skin.  So I stopped taking the Solodyn.\"],\n",
       " 'sideEffectsReview': ['My one year old daughter who has an awesome disposition (and always has) became restless and agitated. Very touchy, aggressive, crying a lot, and having a hard time sleeping. Also refluxing a lot and not nursing normally. It just dawned on me this morning it must be the medication. Will request another antibiotic today from the pediatrician.',\n",
       "  None,\n",
       "  \"I haven't taken Solodyn now for a week and I am experiencing very itchy skin, achy joints, and fatigue.  The itchy skin is mostly on my scalp and neck. Today I had itchy hives on my leg as well.  The joint pain is mostly in my right hand and wrist. It hurts to make a fist and then open my hand back up. I've had allergic reactions to other meds before, but they would stop when I stopped the medicine.  For some reason, these nasty side effects are lingering.\"],\n",
       " 'commentsReview': ['Thanks', '.', 'none'],\n",
       " 'review_length': [1, 1, 1]}"
      ]
     },
     "execution_count": 15,
     "metadata": {},
     "output_type": "execute_result"
    }
   ],
   "source": [
    "drug_dataset[\"train\"].sort(\"review_length\")[:3]"
   ]
  },
  {
   "cell_type": "code",
   "execution_count": 16,
   "metadata": {},
   "outputs": [
    {
     "data": {
      "application/vnd.jupyter.widget-view+json": {
       "model_id": "f678d593d99f4ec3afe99c175d13d720",
       "version_major": 2,
       "version_minor": 0
      },
      "text/plain": [
       "Filter:   0%|          | 0/3094 [00:00<?, ? examples/s]"
      ]
     },
     "metadata": {},
     "output_type": "display_data"
    },
    {
     "data": {
      "application/vnd.jupyter.widget-view+json": {
       "model_id": "e21489853efb4757b9add25b54ea70f2",
       "version_major": 2,
       "version_minor": 0
      },
      "text/plain": [
       "Filter:   0%|          | 0/1035 [00:00<?, ? examples/s]"
      ]
     },
     "metadata": {},
     "output_type": "display_data"
    },
    {
     "name": "stdout",
     "output_type": "stream",
     "text": [
      "{'train': 1818, 'test': 637}\n"
     ]
    }
   ],
   "source": [
    "# Drop records that has lesser than 30 words\n",
    "drug_dataset = drug_dataset.filter(lambda x: x[\"review_length\"] >= 30)\n",
    "print(drug_dataset.num_rows)"
   ]
  },
  {
   "cell_type": "code",
   "execution_count": 17,
   "metadata": {},
   "outputs": [
    {
     "data": {
      "text/plain": [
       "\"I'm a transformer called BERT\""
      ]
     },
     "execution_count": 17,
     "metadata": {},
     "output_type": "execute_result"
    }
   ],
   "source": [
    "# converting html characters\n",
    "import html\n",
    "\n",
    "text = \"I&#039;m a transformer called BERT\"\n",
    "html.unescape(text)"
   ]
  },
  {
   "cell_type": "code",
   "execution_count": 18,
   "metadata": {},
   "outputs": [
    {
     "data": {
      "application/vnd.jupyter.widget-view+json": {
       "model_id": "7948628512534304a875f5b188593470",
       "version_major": 2,
       "version_minor": 0
      },
      "text/plain": [
       "Map:   0%|          | 0/1818 [00:00<?, ? examples/s]"
      ]
     },
     "metadata": {},
     "output_type": "display_data"
    },
    {
     "data": {
      "application/vnd.jupyter.widget-view+json": {
       "model_id": "c5af47b5a91b437daec05b86f62f5dfc",
       "version_major": 2,
       "version_minor": 0
      },
      "text/plain": [
       "Map:   0%|          | 0/637 [00:00<?, ? examples/s]"
      ]
     },
     "metadata": {},
     "output_type": "display_data"
    }
   ],
   "source": [
    "drug_dataset = drug_dataset.map(lambda x: {\"commentsReview\": html.unescape(x[\"commentsReview\"])})"
   ]
  },
  {
   "cell_type": "code",
   "execution_count": 19,
   "metadata": {},
   "outputs": [
    {
     "data": {
      "application/vnd.jupyter.widget-view+json": {
       "model_id": "a7a691e2e36f4a80a4370ebdc227b73c",
       "version_major": 2,
       "version_minor": 0
      },
      "text/plain": [
       "Map:   0%|          | 0/1818 [00:00<?, ? examples/s]"
      ]
     },
     "metadata": {},
     "output_type": "display_data"
    },
    {
     "data": {
      "application/vnd.jupyter.widget-view+json": {
       "model_id": "3e693b03507a4a57bdcdfdde1449b01a",
       "version_major": 2,
       "version_minor": 0
      },
      "text/plain": [
       "Map:   0%|          | 0/637 [00:00<?, ? examples/s]"
      ]
     },
     "metadata": {},
     "output_type": "display_data"
    }
   ],
   "source": [
    "new_drug_dataset = drug_dataset.map(\n",
    "    lambda x: {\"commentsReview\": [html.unescape(o) for o in x[\"commentsReview\"]]}, batched=True\n",
    ")"
   ]
  },
  {
   "cell_type": "code",
   "execution_count": 20,
   "metadata": {},
   "outputs": [
    {
     "data": {
      "application/vnd.jupyter.widget-view+json": {
       "model_id": "594884bf56d846aaa3e3ba506e0b3977",
       "version_major": 2,
       "version_minor": 0
      },
      "text/plain": [
       "Map:   0%|          | 0/1818 [00:00<?, ? examples/s]"
      ]
     },
     "metadata": {},
     "output_type": "display_data"
    },
    {
     "data": {
      "application/vnd.jupyter.widget-view+json": {
       "model_id": "0aa1b7bcae8c49b1803331d0a96d8bf8",
       "version_major": 2,
       "version_minor": 0
      },
      "text/plain": [
       "Map:   0%|          | 0/637 [00:00<?, ? examples/s]"
      ]
     },
     "metadata": {},
     "output_type": "display_data"
    },
    {
     "name": "stdout",
     "output_type": "stream",
     "text": [
      "CPU times: total: 1.45 s\n",
      "Wall time: 691 ms\n"
     ]
    }
   ],
   "source": [
    "# Tokenization in batches\n",
    "from transformers import AutoTokenizer\n",
    "\n",
    "tokenizer = AutoTokenizer.from_pretrained(\"bert-base-cased\")\n",
    "\n",
    "\n",
    "def tokenize_function(examples):\n",
    "    return tokenizer(examples[\"commentsReview\"], truncation=True)\n",
    "\n",
    "%time tokenized_dataset = drug_dataset.map(tokenize_function, batched=True)"
   ]
  },
  {
   "cell_type": "code",
   "execution_count": 21,
   "metadata": {},
   "outputs": [
    {
     "data": {
      "application/vnd.jupyter.widget-view+json": {
       "model_id": "5bc45d8e050f4792850af02d12d056a7",
       "version_major": 2,
       "version_minor": 0
      },
      "text/plain": [
       "Map (num_proc=8):   0%|          | 0/1818 [00:00<?, ? examples/s]"
      ]
     },
     "metadata": {},
     "output_type": "display_data"
    },
    {
     "data": {
      "application/vnd.jupyter.widget-view+json": {
       "model_id": "47e3dd2c7a4945caa83d0855522cb917",
       "version_major": 2,
       "version_minor": 0
      },
      "text/plain": [
       "Map (num_proc=8):   0%|          | 0/637 [00:00<?, ? examples/s]"
      ]
     },
     "metadata": {},
     "output_type": "display_data"
    },
    {
     "name": "stdout",
     "output_type": "stream",
     "text": [
      "CPU times: total: 7.92 s\n",
      "Wall time: 47.1 s\n"
     ]
    }
   ],
   "source": [
    "slow_tokenizer = AutoTokenizer.from_pretrained(\"bert-base-cased\", use_fast=False)\n",
    "\n",
    "def slow_tokenize_function(examples, slow_tokenizer=slow_tokenizer):\n",
    "    return slow_tokenizer(examples[\"commentsReview\"], truncation=True)\n",
    "\n",
    "%time tokenized_dataset = drug_dataset.map(slow_tokenize_function, batched=True, num_proc=8)"
   ]
  },
  {
   "cell_type": "code",
   "execution_count": 22,
   "metadata": {},
   "outputs": [
    {
     "data": {
      "text/plain": [
       "[128, 7]"
      ]
     },
     "execution_count": 22,
     "metadata": {},
     "output_type": "execute_result"
    }
   ],
   "source": [
    "# Tokenize and split when it is more than 128\n",
    "def tokenize_and_split(examples):\n",
    "    return tokenizer(\n",
    "        examples[\"commentsReview\"],\n",
    "        truncation=True,\n",
    "        max_length=128,\n",
    "        return_overflowing_tokens=True,\n",
    "    )\n",
    "\n",
    "result = tokenize_and_split(drug_dataset[\"train\"][9])\n",
    "[len(inp) for inp in result[\"input_ids\"]]"
   ]
  },
  {
   "cell_type": "code",
   "execution_count": 23,
   "metadata": {},
   "outputs": [
    {
     "data": {
      "application/vnd.jupyter.widget-view+json": {
       "model_id": "888335466eb74249999296f13803a356",
       "version_major": 2,
       "version_minor": 0
      },
      "text/plain": [
       "Map:   0%|          | 0/1818 [00:00<?, ? examples/s]"
      ]
     },
     "metadata": {},
     "output_type": "display_data"
    },
    {
     "data": {
      "application/vnd.jupyter.widget-view+json": {
       "model_id": "7dc50a7e6bf64060a929b6d9e4f4a691",
       "version_major": 2,
       "version_minor": 0
      },
      "text/plain": [
       "Map:   0%|          | 0/637 [00:00<?, ? examples/s]"
      ]
     },
     "metadata": {},
     "output_type": "display_data"
    },
    {
     "data": {
      "text/plain": [
       "(2272, 1818)"
      ]
     },
     "execution_count": 23,
     "metadata": {},
     "output_type": "execute_result"
    }
   ],
   "source": [
    "# Resolve mapping issue by remove_column\n",
    "tokenized_dataset = drug_dataset.map(\n",
    "    tokenize_and_split, batched=True, remove_columns=drug_dataset[\"train\"].column_names\n",
    ")\n",
    "len(tokenized_dataset[\"train\"]), len(drug_dataset[\"train\"])"
   ]
  },
  {
   "cell_type": "code",
   "execution_count": 24,
   "metadata": {},
   "outputs": [],
   "source": [
    "# resolve by removing overflow_to_sample_mapping\n",
    "def tokenize_and_split(examples):\n",
    "    result = tokenizer(\n",
    "        examples[\"commentsReview\"],\n",
    "        truncation=True,\n",
    "        max_length=128,\n",
    "        return_overflowing_tokens=True,\n",
    "    )\n",
    "    # Extract mapping between new and old indices\n",
    "    sample_map = result.pop(\"overflow_to_sample_mapping\")\n",
    "    for key, values in examples.items():\n",
    "        result[key] = [values[i] for i in sample_map]\n",
    "    return result"
   ]
  },
  {
   "cell_type": "code",
   "execution_count": 25,
   "metadata": {},
   "outputs": [
    {
     "data": {
      "application/vnd.jupyter.widget-view+json": {
       "model_id": "8b9205d8f52041ada869b93ab3558e37",
       "version_major": 2,
       "version_minor": 0
      },
      "text/plain": [
       "Map:   0%|          | 0/1818 [00:00<?, ? examples/s]"
      ]
     },
     "metadata": {},
     "output_type": "display_data"
    },
    {
     "data": {
      "application/vnd.jupyter.widget-view+json": {
       "model_id": "5e3f0ea716be4151baccaa2956a390d0",
       "version_major": 2,
       "version_minor": 0
      },
      "text/plain": [
       "Map:   0%|          | 0/637 [00:00<?, ? examples/s]"
      ]
     },
     "metadata": {},
     "output_type": "display_data"
    },
    {
     "data": {
      "text/plain": [
       "DatasetDict({\n",
       "    train: Dataset({\n",
       "        features: ['review_id', 'urlDrugName', 'rating', 'effectiveness', 'sideEffects', 'condition', 'benefitsReview', 'sideEffectsReview', 'commentsReview', 'review_length', 'input_ids', 'token_type_ids', 'attention_mask'],\n",
       "        num_rows: 2272\n",
       "    })\n",
       "    test: Dataset({\n",
       "        features: ['review_id', 'urlDrugName', 'rating', 'effectiveness', 'sideEffects', 'condition', 'benefitsReview', 'sideEffectsReview', 'commentsReview', 'review_length', 'input_ids', 'token_type_ids', 'attention_mask'],\n",
       "        num_rows: 819\n",
       "    })\n",
       "})"
      ]
     },
     "execution_count": 25,
     "metadata": {},
     "output_type": "execute_result"
    }
   ],
   "source": [
    "tokenized_dataset = drug_dataset.map(tokenize_and_split, batched=True)\n",
    "tokenized_dataset"
   ]
  },
  {
   "cell_type": "code",
   "execution_count": 26,
   "metadata": {},
   "outputs": [
    {
     "data": {
      "text/html": [
       "<div>\n",
       "<style scoped>\n",
       "    .dataframe tbody tr th:only-of-type {\n",
       "        vertical-align: middle;\n",
       "    }\n",
       "\n",
       "    .dataframe tbody tr th {\n",
       "        vertical-align: top;\n",
       "    }\n",
       "\n",
       "    .dataframe thead th {\n",
       "        text-align: right;\n",
       "    }\n",
       "</style>\n",
       "<table border=\"1\" class=\"dataframe\">\n",
       "  <thead>\n",
       "    <tr style=\"text-align: right;\">\n",
       "      <th></th>\n",
       "      <th>review_id</th>\n",
       "      <th>urlDrugName</th>\n",
       "      <th>rating</th>\n",
       "      <th>effectiveness</th>\n",
       "      <th>sideEffects</th>\n",
       "      <th>condition</th>\n",
       "      <th>benefitsReview</th>\n",
       "      <th>sideEffectsReview</th>\n",
       "      <th>commentsReview</th>\n",
       "      <th>review_length</th>\n",
       "    </tr>\n",
       "  </thead>\n",
       "  <tbody>\n",
       "    <tr>\n",
       "      <th>0</th>\n",
       "      <td>1146</td>\n",
       "      <td>ponstel</td>\n",
       "      <td>10</td>\n",
       "      <td>Highly Effective</td>\n",
       "      <td>No Side Effects</td>\n",
       "      <td>menstrual cramps</td>\n",
       "      <td>I was used to having cramps so badly that they...</td>\n",
       "      <td>Heavier bleeding and clotting than normal.</td>\n",
       "      <td>I took 2 pills at the onset of my menstrual cr...</td>\n",
       "      <td>76</td>\n",
       "    </tr>\n",
       "    <tr>\n",
       "      <th>1</th>\n",
       "      <td>1043</td>\n",
       "      <td>vyvanse</td>\n",
       "      <td>9</td>\n",
       "      <td>Highly Effective</td>\n",
       "      <td>Mild Side Effects</td>\n",
       "      <td>add</td>\n",
       "      <td>My mood has noticably improved, I have more en...</td>\n",
       "      <td>a few experiences of nausiea, heavy moodswings...</td>\n",
       "      <td>I had began taking 20mg of Vyvanse for three m...</td>\n",
       "      <td>107</td>\n",
       "    </tr>\n",
       "    <tr>\n",
       "      <th>2</th>\n",
       "      <td>1591</td>\n",
       "      <td>xanax</td>\n",
       "      <td>10</td>\n",
       "      <td>Highly Effective</td>\n",
       "      <td>No Side Effects</td>\n",
       "      <td>panic disorder</td>\n",
       "      <td>This simply just works fast and without any of...</td>\n",
       "      <td>I really don't have any side effects other tha...</td>\n",
       "      <td>I first started taking this at 3 times per day...</td>\n",
       "      <td>231</td>\n",
       "    </tr>\n",
       "  </tbody>\n",
       "</table>\n",
       "</div>"
      ],
      "text/plain": [
       "   review_id urlDrugName  rating     effectiveness        sideEffects  \\\n",
       "0       1146     ponstel      10  Highly Effective    No Side Effects   \n",
       "1       1043     vyvanse       9  Highly Effective  Mild Side Effects   \n",
       "2       1591       xanax      10  Highly Effective    No Side Effects   \n",
       "\n",
       "          condition                                     benefitsReview  \\\n",
       "0  menstrual cramps  I was used to having cramps so badly that they...   \n",
       "1               add  My mood has noticably improved, I have more en...   \n",
       "2    panic disorder  This simply just works fast and without any of...   \n",
       "\n",
       "                                   sideEffectsReview  \\\n",
       "0         Heavier bleeding and clotting than normal.   \n",
       "1  a few experiences of nausiea, heavy moodswings...   \n",
       "2  I really don't have any side effects other tha...   \n",
       "\n",
       "                                      commentsReview  review_length  \n",
       "0  I took 2 pills at the onset of my menstrual cr...             76  \n",
       "1  I had began taking 20mg of Vyvanse for three m...            107  \n",
       "2  I first started taking this at 3 times per day...            231  "
      ]
     },
     "execution_count": 26,
     "metadata": {},
     "output_type": "execute_result"
    }
   ],
   "source": [
    "# Convert dataset to pandas\n",
    "drug_dataset.set_format(\"pandas\")\n",
    "\n",
    "drug_dataset[\"train\"][:3]"
   ]
  },
  {
   "cell_type": "code",
   "execution_count": 27,
   "metadata": {},
   "outputs": [],
   "source": [
    "train_df = drug_dataset[\"train\"][:]"
   ]
  },
  {
   "cell_type": "code",
   "execution_count": 28,
   "metadata": {},
   "outputs": [
    {
     "data": {
      "text/html": [
       "<div>\n",
       "<style scoped>\n",
       "    .dataframe tbody tr th:only-of-type {\n",
       "        vertical-align: middle;\n",
       "    }\n",
       "\n",
       "    .dataframe tbody tr th {\n",
       "        vertical-align: top;\n",
       "    }\n",
       "\n",
       "    .dataframe thead th {\n",
       "        text-align: right;\n",
       "    }\n",
       "</style>\n",
       "<table border=\"1\" class=\"dataframe\">\n",
       "  <thead>\n",
       "    <tr style=\"text-align: right;\">\n",
       "      <th></th>\n",
       "      <th>frequency</th>\n",
       "      <th>count</th>\n",
       "    </tr>\n",
       "  </thead>\n",
       "  <tbody>\n",
       "    <tr>\n",
       "      <th>0</th>\n",
       "      <td>depression</td>\n",
       "      <td>143</td>\n",
       "    </tr>\n",
       "    <tr>\n",
       "      <th>1</th>\n",
       "      <td>acne</td>\n",
       "      <td>90</td>\n",
       "    </tr>\n",
       "    <tr>\n",
       "      <th>2</th>\n",
       "      <td>anxiety</td>\n",
       "      <td>34</td>\n",
       "    </tr>\n",
       "    <tr>\n",
       "      <th>3</th>\n",
       "      <td>insomnia</td>\n",
       "      <td>32</td>\n",
       "    </tr>\n",
       "    <tr>\n",
       "      <th>4</th>\n",
       "      <td>high blood pressure</td>\n",
       "      <td>24</td>\n",
       "    </tr>\n",
       "  </tbody>\n",
       "</table>\n",
       "</div>"
      ],
      "text/plain": [
       "             frequency  count\n",
       "0           depression    143\n",
       "1                 acne     90\n",
       "2              anxiety     34\n",
       "3             insomnia     32\n",
       "4  high blood pressure     24"
      ]
     },
     "execution_count": 28,
     "metadata": {},
     "output_type": "execute_result"
    }
   ],
   "source": [
    "# Generate condition frequencies\n",
    "frequencies = (\n",
    "    train_df[\"condition\"]\n",
    "    .value_counts()\n",
    "    .to_frame()\n",
    "    .reset_index()\n",
    "    .rename(columns={\"index\": \"condition\", \"condition\": \"frequency\"})\n",
    ")\n",
    "frequencies.head()"
   ]
  },
  {
   "cell_type": "code",
   "execution_count": 29,
   "metadata": {},
   "outputs": [
    {
     "data": {
      "text/plain": [
       "Dataset({\n",
       "    features: ['frequency', 'count'],\n",
       "    num_rows: 925\n",
       "})"
      ]
     },
     "execution_count": 29,
     "metadata": {},
     "output_type": "execute_result"
    }
   ],
   "source": [
    "# Create a dataset object based on frequencies dataframe\n",
    "from datasets import Dataset\n",
    "\n",
    "freq_dataset = Dataset.from_pandas(frequencies)\n",
    "freq_dataset"
   ]
  },
  {
   "cell_type": "code",
   "execution_count": 30,
   "metadata": {},
   "outputs": [],
   "source": [
    "# Convert drug dataset set from pandas back to arrow\n",
    "drug_dataset.reset_format()"
   ]
  },
  {
   "cell_type": "code",
   "execution_count": 31,
   "metadata": {},
   "outputs": [
    {
     "data": {
      "text/plain": [
       "DatasetDict({\n",
       "    train: Dataset({\n",
       "        features: ['review_id', 'urlDrugName', 'rating', 'effectiveness', 'sideEffects', 'condition', 'benefitsReview', 'sideEffectsReview', 'commentsReview', 'review_length'],\n",
       "        num_rows: 1454\n",
       "    })\n",
       "    validation: Dataset({\n",
       "        features: ['review_id', 'urlDrugName', 'rating', 'effectiveness', 'sideEffects', 'condition', 'benefitsReview', 'sideEffectsReview', 'commentsReview', 'review_length'],\n",
       "        num_rows: 364\n",
       "    })\n",
       "    test: Dataset({\n",
       "        features: ['review_id', 'urlDrugName', 'rating', 'effectiveness', 'sideEffects', 'condition', 'benefitsReview', 'sideEffectsReview', 'commentsReview', 'review_length'],\n",
       "        num_rows: 637\n",
       "    })\n",
       "})"
      ]
     },
     "execution_count": 31,
     "metadata": {},
     "output_type": "execute_result"
    }
   ],
   "source": [
    "# Create a validation dataset\n",
    "\n",
    "drug_dataset_clean = drug_dataset[\"train\"].train_test_split(train_size=0.8, seed=42)\n",
    "# Rename the default \"test\" split to \"validation\"\n",
    "drug_dataset_clean[\"validation\"] = drug_dataset_clean.pop(\"test\")\n",
    "# Add the \"test\" set to our `DatasetDict`\n",
    "drug_dataset_clean[\"test\"] = drug_dataset[\"test\"]\n",
    "drug_dataset_clean"
   ]
  },
  {
   "cell_type": "markdown",
   "metadata": {},
   "source": [
    "### Saving dataset"
   ]
  },
  {
   "cell_type": "code",
   "execution_count": 32,
   "metadata": {},
   "outputs": [
    {
     "data": {
      "application/vnd.jupyter.widget-view+json": {
       "model_id": "ba6533b8867a438190b239237b856d64",
       "version_major": 2,
       "version_minor": 0
      },
      "text/plain": [
       "Saving the dataset (0/1 shards):   0%|          | 0/1454 [00:00<?, ? examples/s]"
      ]
     },
     "metadata": {},
     "output_type": "display_data"
    },
    {
     "data": {
      "application/vnd.jupyter.widget-view+json": {
       "model_id": "066e5f0166dc4e80b2d7aee63e2cc03c",
       "version_major": 2,
       "version_minor": 0
      },
      "text/plain": [
       "Saving the dataset (0/1 shards):   0%|          | 0/364 [00:00<?, ? examples/s]"
      ]
     },
     "metadata": {},
     "output_type": "display_data"
    },
    {
     "data": {
      "application/vnd.jupyter.widget-view+json": {
       "model_id": "3bb4b98a835c4162bd2845a08d18602f",
       "version_major": 2,
       "version_minor": 0
      },
      "text/plain": [
       "Saving the dataset (0/1 shards):   0%|          | 0/637 [00:00<?, ? examples/s]"
      ]
     },
     "metadata": {},
     "output_type": "display_data"
    }
   ],
   "source": [
    "drug_dataset_clean.save_to_disk(\"drug-reviews\")"
   ]
  },
  {
   "cell_type": "markdown",
   "metadata": {},
   "source": [
    "### Loading Arrow Dataset"
   ]
  },
  {
   "cell_type": "code",
   "execution_count": 33,
   "metadata": {},
   "outputs": [
    {
     "data": {
      "text/plain": [
       "DatasetDict({\n",
       "    train: Dataset({\n",
       "        features: ['review_id', 'urlDrugName', 'rating', 'effectiveness', 'sideEffects', 'condition', 'benefitsReview', 'sideEffectsReview', 'commentsReview', 'review_length'],\n",
       "        num_rows: 1454\n",
       "    })\n",
       "    validation: Dataset({\n",
       "        features: ['review_id', 'urlDrugName', 'rating', 'effectiveness', 'sideEffects', 'condition', 'benefitsReview', 'sideEffectsReview', 'commentsReview', 'review_length'],\n",
       "        num_rows: 364\n",
       "    })\n",
       "    test: Dataset({\n",
       "        features: ['review_id', 'urlDrugName', 'rating', 'effectiveness', 'sideEffects', 'condition', 'benefitsReview', 'sideEffectsReview', 'commentsReview', 'review_length'],\n",
       "        num_rows: 637\n",
       "    })\n",
       "})"
      ]
     },
     "execution_count": 33,
     "metadata": {},
     "output_type": "execute_result"
    }
   ],
   "source": [
    "from datasets import load_from_disk\n",
    "\n",
    "drug_dataset_reloaded = load_from_disk(\"drug-reviews\")\n",
    "drug_dataset_reloaded"
   ]
  },
  {
   "cell_type": "code",
   "execution_count": 34,
   "metadata": {},
   "outputs": [
    {
     "data": {
      "application/vnd.jupyter.widget-view+json": {
       "model_id": "9f814ab25d1d4262b201c49d15b91b5d",
       "version_major": 2,
       "version_minor": 0
      },
      "text/plain": [
       "Creating json from Arrow format:   0%|          | 0/2 [00:00<?, ?ba/s]"
      ]
     },
     "metadata": {},
     "output_type": "display_data"
    },
    {
     "data": {
      "application/vnd.jupyter.widget-view+json": {
       "model_id": "51291a4dc0284ff2be1f0148a49ebe7d",
       "version_major": 2,
       "version_minor": 0
      },
      "text/plain": [
       "Creating json from Arrow format:   0%|          | 0/1 [00:00<?, ?ba/s]"
      ]
     },
     "metadata": {},
     "output_type": "display_data"
    },
    {
     "data": {
      "application/vnd.jupyter.widget-view+json": {
       "model_id": "e1759e2fd88246f4b3c0a1f0641b79fd",
       "version_major": 2,
       "version_minor": 0
      },
      "text/plain": [
       "Creating json from Arrow format:   0%|          | 0/1 [00:00<?, ?ba/s]"
      ]
     },
     "metadata": {},
     "output_type": "display_data"
    }
   ],
   "source": [
    "# For csv and json we need to store each set of data (Train, validation, test) as a file\n",
    "for split, dataset in drug_dataset_clean.items():\n",
    "    dataset.to_json(f\"data/drug-reviews/drug-reviews-{split}.jsonl\")"
   ]
  },
  {
   "cell_type": "code",
   "execution_count": 35,
   "metadata": {},
   "outputs": [
    {
     "data": {
      "application/vnd.jupyter.widget-view+json": {
       "model_id": "10317106d3314d5095e4b9aedcaec064",
       "version_major": 2,
       "version_minor": 0
      },
      "text/plain": [
       "Generating train split: 0 examples [00:00, ? examples/s]"
      ]
     },
     "metadata": {},
     "output_type": "display_data"
    },
    {
     "data": {
      "application/vnd.jupyter.widget-view+json": {
       "model_id": "3d943a8c434848c196fa2c1692538af2",
       "version_major": 2,
       "version_minor": 0
      },
      "text/plain": [
       "Generating validation split: 0 examples [00:00, ? examples/s]"
      ]
     },
     "metadata": {},
     "output_type": "display_data"
    },
    {
     "data": {
      "application/vnd.jupyter.widget-view+json": {
       "model_id": "07bc8eba669e4d4eaae8344a5c16f1ac",
       "version_major": 2,
       "version_minor": 0
      },
      "text/plain": [
       "Generating test split: 0 examples [00:00, ? examples/s]"
      ]
     },
     "metadata": {},
     "output_type": "display_data"
    }
   ],
   "source": [
    "data_files = {\n",
    "    \"train\": \"data/drug-reviews/drug-reviews-train.jsonl\",\n",
    "    \"validation\": \"data/drug-reviews/drug-reviews-validation.jsonl\",\n",
    "    \"test\": \"data/drug-reviews/drug-reviews-test.jsonl\",\n",
    "}\n",
    "drug_dataset_reloaded = load_dataset(\"json\", data_files=data_files)"
   ]
  },
  {
   "cell_type": "code",
   "execution_count": 36,
   "metadata": {},
   "outputs": [
    {
     "data": {
      "text/plain": [
       "DatasetDict({\n",
       "    train: Dataset({\n",
       "        features: ['review_id', 'urlDrugName', 'rating', 'effectiveness', 'sideEffects', 'condition', 'benefitsReview', 'sideEffectsReview', 'commentsReview', 'review_length'],\n",
       "        num_rows: 1454\n",
       "    })\n",
       "    validation: Dataset({\n",
       "        features: ['review_id', 'urlDrugName', 'rating', 'effectiveness', 'sideEffects', 'condition', 'benefitsReview', 'sideEffectsReview', 'commentsReview', 'review_length'],\n",
       "        num_rows: 364\n",
       "    })\n",
       "    test: Dataset({\n",
       "        features: ['review_id', 'urlDrugName', 'rating', 'effectiveness', 'sideEffects', 'condition', 'benefitsReview', 'sideEffectsReview', 'commentsReview', 'review_length'],\n",
       "        num_rows: 637\n",
       "    })\n",
       "})"
      ]
     },
     "execution_count": 36,
     "metadata": {},
     "output_type": "execute_result"
    }
   ],
   "source": [
    "drug_dataset_reloaded"
   ]
  },
  {
   "cell_type": "markdown",
   "metadata": {},
   "source": [
    "## Big Data - datasets (skip because data is not available)"
   ]
  },
  {
   "cell_type": "code",
   "execution_count": 37,
   "metadata": {},
   "outputs": [],
   "source": [
    "# !pip install zstandard"
   ]
  },
  {
   "cell_type": "code",
   "execution_count": 38,
   "metadata": {},
   "outputs": [
    {
     "data": {
      "text/plain": [
       "scputimes(user=20098.4375, system=7983.062500000007, idle=61830.93749999999, interrupt=438.390625, dpc=384.8125)"
      ]
     },
     "execution_count": 38,
     "metadata": {},
     "output_type": "execute_result"
    }
   ],
   "source": [
    "import psutil\n",
    "psutil.cpu_times()"
   ]
  },
  {
   "cell_type": "markdown",
   "metadata": {},
   "source": [
    "## Semantic Search with FAISS"
   ]
  },
  {
   "cell_type": "code",
   "execution_count": 39,
   "metadata": {},
   "outputs": [
    {
     "name": "stderr",
     "output_type": "stream",
     "text": [
      "Repo card metadata block was not found. Setting CardData to empty.\n"
     ]
    },
    {
     "data": {
      "text/plain": [
       "Dataset({\n",
       "    features: ['url', 'repository_url', 'labels_url', 'comments_url', 'events_url', 'html_url', 'id', 'node_id', 'number', 'title', 'user', 'labels', 'state', 'locked', 'assignee', 'assignees', 'milestone', 'comments', 'created_at', 'updated_at', 'closed_at', 'author_association', 'active_lock_reason', 'pull_request', 'body', 'timeline_url', 'performed_via_github_app', 'is_pull_request'],\n",
       "    num_rows: 3019\n",
       "})"
      ]
     },
     "execution_count": 39,
     "metadata": {},
     "output_type": "execute_result"
    }
   ],
   "source": [
    "# Loading the dataset\n",
    "from datasets import load_dataset\n",
    "\n",
    "issues_dataset = load_dataset(\"lewtun/github-issues\", split=\"train\")\n",
    "issues_dataset"
   ]
  },
  {
   "cell_type": "code",
   "execution_count": 40,
   "metadata": {},
   "outputs": [
    {
     "data": {
      "text/plain": [
       "Dataset({\n",
       "    features: ['url', 'repository_url', 'labels_url', 'comments_url', 'events_url', 'html_url', 'id', 'node_id', 'number', 'title', 'user', 'labels', 'state', 'locked', 'assignee', 'assignees', 'milestone', 'comments', 'created_at', 'updated_at', 'closed_at', 'author_association', 'active_lock_reason', 'pull_request', 'body', 'timeline_url', 'performed_via_github_app', 'is_pull_request'],\n",
       "    num_rows: 808\n",
       "})"
      ]
     },
     "execution_count": 40,
     "metadata": {},
     "output_type": "execute_result"
    }
   ],
   "source": [
    "# Filter out pull request and empty comments\n",
    "issues_dataset = issues_dataset.filter(\n",
    "    lambda x: (x[\"is_pull_request\"] == False and len(x[\"comments\"]) > 0)\n",
    ")\n",
    "issues_dataset"
   ]
  },
  {
   "cell_type": "code",
   "execution_count": 41,
   "metadata": {},
   "outputs": [
    {
     "data": {
      "text/plain": [
       "Dataset({\n",
       "    features: ['html_url', 'title', 'comments', 'body'],\n",
       "    num_rows: 808\n",
       "})"
      ]
     },
     "execution_count": 41,
     "metadata": {},
     "output_type": "execute_result"
    }
   ],
   "source": [
    "# Remove columns that is not needed\n",
    "\n",
    "columns = issues_dataset.column_names\n",
    "columns_to_keep = [\"title\", \"body\", \"html_url\", \"comments\"]\n",
    "columns_to_remove = set(columns_to_keep).symmetric_difference(columns)\n",
    "issues_dataset = issues_dataset.remove_columns(columns_to_remove)\n",
    "issues_dataset"
   ]
  },
  {
   "cell_type": "code",
   "execution_count": 42,
   "metadata": {},
   "outputs": [],
   "source": [
    "issues_dataset.set_format(\"pandas\")\n",
    "df = issues_dataset[:]"
   ]
  },
  {
   "cell_type": "code",
   "execution_count": 43,
   "metadata": {},
   "outputs": [
    {
     "data": {
      "text/plain": [
       "['Cool, I think we can do both :)',\n",
       " '@lhoestq now the 2 are implemented.\\r\\n\\r\\nPlease note that for the the second protection, finally I have chosen to protect the master branch only from **merge commits** (see update comment above), so no need to disable/re-enable the protection on each release (direct commits, different from merge commits, can be pushed to the remote master branch; and eventually reverted without messing up the repo history).']"
      ]
     },
     "execution_count": 43,
     "metadata": {},
     "output_type": "execute_result"
    }
   ],
   "source": [
    "df[\"comments\"][0].tolist()"
   ]
  },
  {
   "cell_type": "code",
   "execution_count": 44,
   "metadata": {},
   "outputs": [
    {
     "data": {
      "text/html": [
       "<div>\n",
       "<style scoped>\n",
       "    .dataframe tbody tr th:only-of-type {\n",
       "        vertical-align: middle;\n",
       "    }\n",
       "\n",
       "    .dataframe tbody tr th {\n",
       "        vertical-align: top;\n",
       "    }\n",
       "\n",
       "    .dataframe thead th {\n",
       "        text-align: right;\n",
       "    }\n",
       "</style>\n",
       "<table border=\"1\" class=\"dataframe\">\n",
       "  <thead>\n",
       "    <tr style=\"text-align: right;\">\n",
       "      <th></th>\n",
       "      <th>html_url</th>\n",
       "      <th>title</th>\n",
       "      <th>comments</th>\n",
       "      <th>body</th>\n",
       "    </tr>\n",
       "  </thead>\n",
       "  <tbody>\n",
       "    <tr>\n",
       "      <th>0</th>\n",
       "      <td>https://github.com/huggingface/datasets/issues...</td>\n",
       "      <td>Protect master branch</td>\n",
       "      <td>Cool, I think we can do both :)</td>\n",
       "      <td>After accidental merge commit (91c55355b634d0d...</td>\n",
       "    </tr>\n",
       "    <tr>\n",
       "      <th>1</th>\n",
       "      <td>https://github.com/huggingface/datasets/issues...</td>\n",
       "      <td>Protect master branch</td>\n",
       "      <td>@lhoestq now the 2 are implemented.\\r\\n\\r\\nPle...</td>\n",
       "      <td>After accidental merge commit (91c55355b634d0d...</td>\n",
       "    </tr>\n",
       "    <tr>\n",
       "      <th>2</th>\n",
       "      <td>https://github.com/huggingface/datasets/issues...</td>\n",
       "      <td>Backwards compatibility broken for cached data...</td>\n",
       "      <td>Hi ! I guess the caching mechanism should have...</td>\n",
       "      <td>## Describe the bug\\r\\nAfter upgrading to data...</td>\n",
       "    </tr>\n",
       "    <tr>\n",
       "      <th>3</th>\n",
       "      <td>https://github.com/huggingface/datasets/issues...</td>\n",
       "      <td>Backwards compatibility broken for cached data...</td>\n",
       "      <td>If it's easy enough to implement, then yes ple...</td>\n",
       "      <td>## Describe the bug\\r\\nAfter upgrading to data...</td>\n",
       "    </tr>\n",
       "  </tbody>\n",
       "</table>\n",
       "</div>"
      ],
      "text/plain": [
       "                                            html_url  \\\n",
       "0  https://github.com/huggingface/datasets/issues...   \n",
       "1  https://github.com/huggingface/datasets/issues...   \n",
       "2  https://github.com/huggingface/datasets/issues...   \n",
       "3  https://github.com/huggingface/datasets/issues...   \n",
       "\n",
       "                                               title  \\\n",
       "0                              Protect master branch   \n",
       "1                              Protect master branch   \n",
       "2  Backwards compatibility broken for cached data...   \n",
       "3  Backwards compatibility broken for cached data...   \n",
       "\n",
       "                                            comments  \\\n",
       "0                    Cool, I think we can do both :)   \n",
       "1  @lhoestq now the 2 are implemented.\\r\\n\\r\\nPle...   \n",
       "2  Hi ! I guess the caching mechanism should have...   \n",
       "3  If it's easy enough to implement, then yes ple...   \n",
       "\n",
       "                                                body  \n",
       "0  After accidental merge commit (91c55355b634d0d...  \n",
       "1  After accidental merge commit (91c55355b634d0d...  \n",
       "2  ## Describe the bug\\r\\nAfter upgrading to data...  \n",
       "3  ## Describe the bug\\r\\nAfter upgrading to data...  "
      ]
     },
     "execution_count": 44,
     "metadata": {},
     "output_type": "execute_result"
    }
   ],
   "source": [
    "# Explode comments column by splitting each item in comment list into a record with the rest of the column remaining the same\n",
    "\n",
    "comments_df = df.explode(\"comments\", ignore_index=True)\n",
    "comments_df.head(4)"
   ]
  },
  {
   "cell_type": "code",
   "execution_count": 45,
   "metadata": {},
   "outputs": [
    {
     "data": {
      "text/plain": [
       "Dataset({\n",
       "    features: ['html_url', 'title', 'comments', 'body'],\n",
       "    num_rows: 2964\n",
       "})"
      ]
     },
     "execution_count": 45,
     "metadata": {},
     "output_type": "execute_result"
    }
   ],
   "source": [
    "# Convert Pandas to Dataset object\n",
    "\n",
    "from datasets import Dataset\n",
    "\n",
    "comments_dataset = Dataset.from_pandas(comments_df)\n",
    "comments_dataset"
   ]
  },
  {
   "cell_type": "code",
   "execution_count": 46,
   "metadata": {},
   "outputs": [
    {
     "data": {
      "application/vnd.jupyter.widget-view+json": {
       "model_id": "59d6fa2e56de4b679b4830ed0fd3922c",
       "version_major": 2,
       "version_minor": 0
      },
      "text/plain": [
       "Map:   0%|          | 0/2964 [00:00<?, ? examples/s]"
      ]
     },
     "metadata": {},
     "output_type": "display_data"
    }
   ],
   "source": [
    "# Create a new column comment length\n",
    "comments_dataset = comments_dataset.map(\n",
    "    lambda x: {\"comment_length\": len(x[\"comments\"].split())}\n",
    ")"
   ]
  },
  {
   "cell_type": "code",
   "execution_count": 47,
   "metadata": {},
   "outputs": [
    {
     "data": {
      "application/vnd.jupyter.widget-view+json": {
       "model_id": "091b5d5742664d8fbf92c110f2781696",
       "version_major": 2,
       "version_minor": 0
      },
      "text/plain": [
       "Filter:   0%|          | 0/2964 [00:00<?, ? examples/s]"
      ]
     },
     "metadata": {},
     "output_type": "display_data"
    },
    {
     "data": {
      "text/plain": [
       "Dataset({\n",
       "    features: ['html_url', 'title', 'comments', 'body', 'comment_length'],\n",
       "    num_rows: 2239\n",
       "})"
      ]
     },
     "execution_count": 47,
     "metadata": {},
     "output_type": "execute_result"
    }
   ],
   "source": [
    "# filter out comment that is less than 15 words\n",
    "comments_dataset = comments_dataset.filter(lambda x: x[\"comment_length\"] >= 15)\n",
    "comments_dataset"
   ]
  },
  {
   "cell_type": "code",
   "execution_count": 48,
   "metadata": {},
   "outputs": [
    {
     "data": {
      "application/vnd.jupyter.widget-view+json": {
       "model_id": "7dcf4b19b78546fd9d104f88555962aa",
       "version_major": 2,
       "version_minor": 0
      },
      "text/plain": [
       "Map:   0%|          | 0/2239 [00:00<?, ? examples/s]"
      ]
     },
     "metadata": {},
     "output_type": "display_data"
    }
   ],
   "source": [
    "# Create a column call text where we concat title, body and comments\n",
    "def concatenate_text(examples):\n",
    "    return {\n",
    "        \"text\": examples[\"title\"]\n",
    "        + \" \\n \"\n",
    "        + examples[\"body\"]\n",
    "        + \" \\n \"\n",
    "        + examples[\"comments\"]\n",
    "    }\n",
    "\n",
    "\n",
    "comments_dataset = comments_dataset.map(concatenate_text)"
   ]
  },
  {
   "cell_type": "code",
   "execution_count": 49,
   "metadata": {},
   "outputs": [],
   "source": [
    "# Load tokenizer and model\n",
    "from transformers import AutoTokenizer, AutoModel\n",
    "\n",
    "model_ckpt = \"sentence-transformers/multi-qa-mpnet-base-dot-v1\"\n",
    "tokenizer = AutoTokenizer.from_pretrained(model_ckpt)\n",
    "model = AutoModel.from_pretrained(model_ckpt)"
   ]
  },
  {
   "cell_type": "code",
   "execution_count": 50,
   "metadata": {},
   "outputs": [
    {
     "data": {
      "text/plain": [
       "MPNetModel(\n",
       "  (embeddings): MPNetEmbeddings(\n",
       "    (word_embeddings): Embedding(30527, 768, padding_idx=1)\n",
       "    (position_embeddings): Embedding(514, 768, padding_idx=1)\n",
       "    (LayerNorm): LayerNorm((768,), eps=1e-05, elementwise_affine=True)\n",
       "    (dropout): Dropout(p=0.1, inplace=False)\n",
       "  )\n",
       "  (encoder): MPNetEncoder(\n",
       "    (layer): ModuleList(\n",
       "      (0-11): 12 x MPNetLayer(\n",
       "        (attention): MPNetAttention(\n",
       "          (attn): MPNetSelfAttention(\n",
       "            (q): Linear(in_features=768, out_features=768, bias=True)\n",
       "            (k): Linear(in_features=768, out_features=768, bias=True)\n",
       "            (v): Linear(in_features=768, out_features=768, bias=True)\n",
       "            (o): Linear(in_features=768, out_features=768, bias=True)\n",
       "            (dropout): Dropout(p=0.1, inplace=False)\n",
       "          )\n",
       "          (LayerNorm): LayerNorm((768,), eps=1e-05, elementwise_affine=True)\n",
       "          (dropout): Dropout(p=0.1, inplace=False)\n",
       "        )\n",
       "        (intermediate): MPNetIntermediate(\n",
       "          (dense): Linear(in_features=768, out_features=3072, bias=True)\n",
       "          (intermediate_act_fn): GELUActivation()\n",
       "        )\n",
       "        (output): MPNetOutput(\n",
       "          (dense): Linear(in_features=3072, out_features=768, bias=True)\n",
       "          (LayerNorm): LayerNorm((768,), eps=1e-05, elementwise_affine=True)\n",
       "          (dropout): Dropout(p=0.1, inplace=False)\n",
       "        )\n",
       "      )\n",
       "    )\n",
       "    (relative_attention_bias): Embedding(32, 12)\n",
       "  )\n",
       "  (pooler): MPNetPooler(\n",
       "    (dense): Linear(in_features=768, out_features=768, bias=True)\n",
       "    (activation): Tanh()\n",
       "  )\n",
       ")"
      ]
     },
     "execution_count": 50,
     "metadata": {},
     "output_type": "execute_result"
    }
   ],
   "source": [
    "import torch\n",
    "\n",
    "device = torch.device(\"cpu\") #change to cuda if you have GPU\n",
    "model.to(device)"
   ]
  },
  {
   "cell_type": "code",
   "execution_count": 51,
   "metadata": {},
   "outputs": [],
   "source": [
    "# CLS pooling - collect the last hidden state for [CLS] token\n",
    "def cls_pooling(model_output):\n",
    "    return model_output.last_hidden_state[:, 0]"
   ]
  },
  {
   "cell_type": "code",
   "execution_count": 52,
   "metadata": {},
   "outputs": [],
   "source": [
    "# Function to tokenize list of documents and applying CLS\n",
    "def get_embeddings(text_list):\n",
    "    encoded_input = tokenizer(\n",
    "        text_list, padding=True, truncation=True, return_tensors=\"pt\"\n",
    "    )\n",
    "    encoded_input = {k: v.to(device) for k, v in encoded_input.items()}\n",
    "    model_output = model(**encoded_input)\n",
    "    return cls_pooling(model_output)"
   ]
  },
  {
   "cell_type": "code",
   "execution_count": 53,
   "metadata": {},
   "outputs": [
    {
     "data": {
      "text/plain": [
       "torch.Size([1, 768])"
      ]
     },
     "execution_count": 53,
     "metadata": {},
     "output_type": "execute_result"
    }
   ],
   "source": [
    "embedding = get_embeddings(comments_dataset[\"text\"][0])\n",
    "embedding.shape"
   ]
  },
  {
   "cell_type": "code",
   "execution_count": 54,
   "metadata": {},
   "outputs": [
    {
     "data": {
      "application/vnd.jupyter.widget-view+json": {
       "model_id": "d966a6b1febe4252b5717d65a4ba0d79",
       "version_major": 2,
       "version_minor": 0
      },
      "text/plain": [
       "Map:   0%|          | 0/2239 [00:00<?, ? examples/s]"
      ]
     },
     "metadata": {},
     "output_type": "display_data"
    }
   ],
   "source": [
    "# Create a column to store our embedding\n",
    "embeddings_dataset = comments_dataset.map(\n",
    "    lambda x: {\"embeddings\": get_embeddings(x[\"text\"]).detach().cpu().numpy()[0]}\n",
    ")"
   ]
  },
  {
   "cell_type": "markdown",
   "metadata": {},
   "source": [
    "### Using FAISS for Efficient Similarity Search\n",
    "\n",
    "FAISS - Facebook AI Similarity Search"
   ]
  },
  {
   "cell_type": "code",
   "execution_count": 55,
   "metadata": {},
   "outputs": [
    {
     "data": {
      "application/vnd.jupyter.widget-view+json": {
       "model_id": "599246cff02c488490a001e7e5988a2c",
       "version_major": 2,
       "version_minor": 0
      },
      "text/plain": [
       "  0%|          | 0/3 [00:00<?, ?it/s]"
      ]
     },
     "metadata": {},
     "output_type": "display_data"
    },
    {
     "data": {
      "text/plain": [
       "Dataset({\n",
       "    features: ['html_url', 'title', 'comments', 'body', 'comment_length', 'text', 'embeddings'],\n",
       "    num_rows: 2239\n",
       "})"
      ]
     },
     "execution_count": 55,
     "metadata": {},
     "output_type": "execute_result"
    }
   ],
   "source": [
    "# Create FAISS index to perform similarity search\n",
    "embeddings_dataset.add_faiss_index(column=\"embeddings\")"
   ]
  },
  {
   "cell_type": "code",
   "execution_count": 56,
   "metadata": {},
   "outputs": [
    {
     "data": {
      "text/plain": [
       "(1, 768)"
      ]
     },
     "execution_count": 56,
     "metadata": {},
     "output_type": "execute_result"
    }
   ],
   "source": [
    "# Perform querying on the index\n",
    "# Embedding of the question\n",
    "question = \"How can I load a dataset offline?\"\n",
    "question_embedding = get_embeddings([question]).cpu().detach().numpy()\n",
    "question_embedding.shape"
   ]
  },
  {
   "cell_type": "code",
   "execution_count": 57,
   "metadata": {},
   "outputs": [],
   "source": [
    "# Get the top 5 most similar embedding\n",
    "scores, samples = embeddings_dataset.get_nearest_examples(\n",
    "    \"embeddings\", question_embedding, k=5\n",
    ")"
   ]
  },
  {
   "cell_type": "code",
   "execution_count": 58,
   "metadata": {},
   "outputs": [
    {
     "data": {
      "text/html": [
       "<div>\n",
       "<style scoped>\n",
       "    .dataframe tbody tr th:only-of-type {\n",
       "        vertical-align: middle;\n",
       "    }\n",
       "\n",
       "    .dataframe tbody tr th {\n",
       "        vertical-align: top;\n",
       "    }\n",
       "\n",
       "    .dataframe thead th {\n",
       "        text-align: right;\n",
       "    }\n",
       "</style>\n",
       "<table border=\"1\" class=\"dataframe\">\n",
       "  <thead>\n",
       "    <tr style=\"text-align: right;\">\n",
       "      <th></th>\n",
       "      <th>html_url</th>\n",
       "      <th>title</th>\n",
       "      <th>comments</th>\n",
       "      <th>body</th>\n",
       "      <th>comment_length</th>\n",
       "      <th>text</th>\n",
       "      <th>embeddings</th>\n",
       "      <th>scores</th>\n",
       "    </tr>\n",
       "  </thead>\n",
       "  <tbody>\n",
       "    <tr>\n",
       "      <th>4</th>\n",
       "      <td>https://github.com/huggingface/datasets/issues...</td>\n",
       "      <td>Discussion using datasets in offline mode</td>\n",
       "      <td>Requiring online connection is a deal breaker ...</td>\n",
       "      <td>`datasets.load_dataset(\"csv\", ...)` breaks if ...</td>\n",
       "      <td>57</td>\n",
       "      <td>Discussion using datasets in offline mode \\n `...</td>\n",
       "      <td>[-0.47318071126937866, 0.24578335881233215, -0...</td>\n",
       "      <td>25.505005</td>\n",
       "    </tr>\n",
       "    <tr>\n",
       "      <th>3</th>\n",
       "      <td>https://github.com/huggingface/datasets/issues...</td>\n",
       "      <td>Discussion using datasets in offline mode</td>\n",
       "      <td>The local dataset builders (csv, text , json a...</td>\n",
       "      <td>`datasets.load_dataset(\"csv\", ...)` breaks if ...</td>\n",
       "      <td>38</td>\n",
       "      <td>Discussion using datasets in offline mode \\n `...</td>\n",
       "      <td>[-0.4490855634212494, 0.20950505137443542, -0....</td>\n",
       "      <td>24.555557</td>\n",
       "    </tr>\n",
       "    <tr>\n",
       "      <th>2</th>\n",
       "      <td>https://github.com/huggingface/datasets/issues...</td>\n",
       "      <td>Discussion using datasets in offline mode</td>\n",
       "      <td>I opened a PR that allows to reload modules th...</td>\n",
       "      <td>`datasets.load_dataset(\"csv\", ...)` breaks if ...</td>\n",
       "      <td>179</td>\n",
       "      <td>Discussion using datasets in offline mode \\n `...</td>\n",
       "      <td>[-0.47164809703826904, 0.2902263402938843, -0....</td>\n",
       "      <td>24.148975</td>\n",
       "    </tr>\n",
       "    <tr>\n",
       "      <th>1</th>\n",
       "      <td>https://github.com/huggingface/datasets/issues...</td>\n",
       "      <td>Discussion using datasets in offline mode</td>\n",
       "      <td>&gt; here is my way to load a dataset offline, bu...</td>\n",
       "      <td>`datasets.load_dataset(\"csv\", ...)` breaks if ...</td>\n",
       "      <td>76</td>\n",
       "      <td>Discussion using datasets in offline mode \\n `...</td>\n",
       "      <td>[-0.49925997853279114, 0.22699648141860962, -0...</td>\n",
       "      <td>22.894001</td>\n",
       "    </tr>\n",
       "    <tr>\n",
       "      <th>0</th>\n",
       "      <td>https://github.com/huggingface/datasets/issues...</td>\n",
       "      <td>Discussion using datasets in offline mode</td>\n",
       "      <td>here is my way to load a dataset offline, but ...</td>\n",
       "      <td>`datasets.load_dataset(\"csv\", ...)` breaks if ...</td>\n",
       "      <td>47</td>\n",
       "      <td>Discussion using datasets in offline mode \\n `...</td>\n",
       "      <td>[-0.4902573823928833, 0.22889509797096252, -0....</td>\n",
       "      <td>22.406649</td>\n",
       "    </tr>\n",
       "  </tbody>\n",
       "</table>\n",
       "</div>"
      ],
      "text/plain": [
       "                                            html_url  \\\n",
       "4  https://github.com/huggingface/datasets/issues...   \n",
       "3  https://github.com/huggingface/datasets/issues...   \n",
       "2  https://github.com/huggingface/datasets/issues...   \n",
       "1  https://github.com/huggingface/datasets/issues...   \n",
       "0  https://github.com/huggingface/datasets/issues...   \n",
       "\n",
       "                                       title  \\\n",
       "4  Discussion using datasets in offline mode   \n",
       "3  Discussion using datasets in offline mode   \n",
       "2  Discussion using datasets in offline mode   \n",
       "1  Discussion using datasets in offline mode   \n",
       "0  Discussion using datasets in offline mode   \n",
       "\n",
       "                                            comments  \\\n",
       "4  Requiring online connection is a deal breaker ...   \n",
       "3  The local dataset builders (csv, text , json a...   \n",
       "2  I opened a PR that allows to reload modules th...   \n",
       "1  > here is my way to load a dataset offline, bu...   \n",
       "0  here is my way to load a dataset offline, but ...   \n",
       "\n",
       "                                                body  comment_length  \\\n",
       "4  `datasets.load_dataset(\"csv\", ...)` breaks if ...              57   \n",
       "3  `datasets.load_dataset(\"csv\", ...)` breaks if ...              38   \n",
       "2  `datasets.load_dataset(\"csv\", ...)` breaks if ...             179   \n",
       "1  `datasets.load_dataset(\"csv\", ...)` breaks if ...              76   \n",
       "0  `datasets.load_dataset(\"csv\", ...)` breaks if ...              47   \n",
       "\n",
       "                                                text  \\\n",
       "4  Discussion using datasets in offline mode \\n `...   \n",
       "3  Discussion using datasets in offline mode \\n `...   \n",
       "2  Discussion using datasets in offline mode \\n `...   \n",
       "1  Discussion using datasets in offline mode \\n `...   \n",
       "0  Discussion using datasets in offline mode \\n `...   \n",
       "\n",
       "                                          embeddings     scores  \n",
       "4  [-0.47318071126937866, 0.24578335881233215, -0...  25.505005  \n",
       "3  [-0.4490855634212494, 0.20950505137443542, -0....  24.555557  \n",
       "2  [-0.47164809703826904, 0.2902263402938843, -0....  24.148975  \n",
       "1  [-0.49925997853279114, 0.22699648141860962, -0...  22.894001  \n",
       "0  [-0.4902573823928833, 0.22889509797096252, -0....  22.406649  "
      ]
     },
     "execution_count": 58,
     "metadata": {},
     "output_type": "execute_result"
    }
   ],
   "source": [
    "import pandas as pd\n",
    "\n",
    "# Process the results and keep it in a dataframe\n",
    "samples_df = pd.DataFrame.from_dict(samples)\n",
    "samples_df[\"scores\"] = scores\n",
    "samples_df.sort_values(\"scores\", ascending=False, inplace=True)\n",
    "samples_df.head()"
   ]
  },
  {
   "cell_type": "code",
   "execution_count": 59,
   "metadata": {},
   "outputs": [
    {
     "name": "stdout",
     "output_type": "stream",
     "text": [
      "COMMENT: Requiring online connection is a deal breaker in some cases unfortunately so it'd be great if offline mode is added similar to how `transformers` loads models offline fine.\n",
      "\n",
      "@mandubian's second bullet point suggests that there's a workaround allowing you to use your offline (custom?) dataset with `datasets`. Could you please elaborate on how that should look like?\n",
      "SCORE: 25.5050048828125\n",
      "TITLE: Discussion using datasets in offline mode\n",
      "URL: https://github.com/huggingface/datasets/issues/824\n",
      "==================================================\n",
      "\n",
      "COMMENT: The local dataset builders (csv, text , json and pandas) are now part of the `datasets` package since #1726 :)\n",
      "You can now use them offline\n",
      "```python\n",
      "datasets = load_dataset('text', data_files=data_files)\n",
      "```\n",
      "\n",
      "We'll do a new release soon\n",
      "SCORE: 24.555557250976562\n",
      "TITLE: Discussion using datasets in offline mode\n",
      "URL: https://github.com/huggingface/datasets/issues/824\n",
      "==================================================\n",
      "\n",
      "COMMENT: I opened a PR that allows to reload modules that have already been loaded once even if there's no internet.\n",
      "\n",
      "Let me know if you know other ways that can make the offline mode experience better. I'd be happy to add them :) \n",
      "\n",
      "I already note the \"freeze\" modules option, to prevent local modules updates. It would be a cool feature.\n",
      "\n",
      "----------\n",
      "\n",
      "> @mandubian's second bullet point suggests that there's a workaround allowing you to use your offline (custom?) dataset with `datasets`. Could you please elaborate on how that should look like?\n",
      "\n",
      "Indeed `load_dataset` allows to load remote dataset script (squad, glue, etc.) but also you own local ones.\n",
      "For example if you have a dataset script at `./my_dataset/my_dataset.py` then you can do\n",
      "```python\n",
      "load_dataset(\"./my_dataset\")\n",
      "```\n",
      "and the dataset script will generate your dataset once and for all.\n",
      "\n",
      "----------\n",
      "\n",
      "About I'm looking into having `csv`, `json`, `text`, `pandas` dataset builders already included in the `datasets` package, so that they are available offline by default, as opposed to the other datasets that require the script to be downloaded.\n",
      "cf #1724 \n",
      "SCORE: 24.148975372314453\n",
      "TITLE: Discussion using datasets in offline mode\n",
      "URL: https://github.com/huggingface/datasets/issues/824\n",
      "==================================================\n",
      "\n",
      "COMMENT: > here is my way to load a dataset offline, but it **requires** an online machine\n",
      "> \n",
      "> 1. (online machine)\n",
      "> \n",
      "> ```\n",
      "> \n",
      "> import datasets\n",
      "> \n",
      "> data = datasets.load_dataset(...)\n",
      "> \n",
      "> data.save_to_disk(/YOUR/DATASET/DIR)\n",
      "> \n",
      "> ```\n",
      "> \n",
      "> 2. copy the dir from online to the offline machine\n",
      "> \n",
      "> 3. (offline machine)\n",
      "> \n",
      "> ```\n",
      "> \n",
      "> import datasets\n",
      "> \n",
      "> data = datasets.load_from_disk(/SAVED/DATA/DIR)\n",
      "> \n",
      "> ```\n",
      "> \n",
      "> \n",
      "> \n",
      "> HTH.\n",
      "\n",
      "\n",
      "SCORE: 22.894001007080078\n",
      "TITLE: Discussion using datasets in offline mode\n",
      "URL: https://github.com/huggingface/datasets/issues/824\n",
      "==================================================\n",
      "\n",
      "COMMENT: here is my way to load a dataset offline, but it **requires** an online machine\n",
      "1. (online machine)\n",
      "```\n",
      "import datasets\n",
      "data = datasets.load_dataset(...)\n",
      "data.save_to_disk(/YOUR/DATASET/DIR)\n",
      "```\n",
      "2. copy the dir from online to the offline machine\n",
      "3. (offline machine)\n",
      "```\n",
      "import datasets\n",
      "data = datasets.load_from_disk(/SAVED/DATA/DIR)\n",
      "```\n",
      "\n",
      "HTH.\n",
      "SCORE: 22.406648635864258\n",
      "TITLE: Discussion using datasets in offline mode\n",
      "URL: https://github.com/huggingface/datasets/issues/824\n",
      "==================================================\n",
      "\n"
     ]
    }
   ],
   "source": [
    "# Print the results of it\n",
    "for _, row in samples_df.iterrows():\n",
    "    print(f\"COMMENT: {row.comments}\")\n",
    "    print(f\"SCORE: {row.scores}\")\n",
    "    print(f\"TITLE: {row.title}\")\n",
    "    print(f\"URL: {row.html_url}\")\n",
    "    print(\"=\" * 50)\n",
    "    print()"
   ]
  }
 ],
 "metadata": {
  "kernelspec": {
   "display_name": "Python 3",
   "language": "python",
   "name": "python3"
  },
  "language_info": {
   "codemirror_mode": {
    "name": "ipython",
    "version": 3
   },
   "file_extension": ".py",
   "mimetype": "text/x-python",
   "name": "python",
   "nbconvert_exporter": "python",
   "pygments_lexer": "ipython3",
   "version": "3.10.8"
  }
 },
 "nbformat": 4,
 "nbformat_minor": 2
}
